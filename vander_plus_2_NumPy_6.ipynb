{
 "cells": [
  {
   "cell_type": "markdown",
   "id": "00ac21c5",
   "metadata": {},
   "source": [
    "## \"Прихотливая (причудливая)\" индексация\n",
    "## fancy indexing\n",
    "Вместо скалярных значений передаются массивы индексов\n",
    "Что дает возможность очень быстрого доступа и модификации сложных подмножеств значений массива"
   ]
  },
  {
   "cell_type": "code",
   "execution_count": null,
   "id": "65210cf0",
   "metadata": {},
   "outputs": [],
   "source": [
    "Суть прихотливой индексации заключается в передаче массива индексов с целью одновременного доступа к нескольким эл-там массива"
   ]
  },
  {
   "cell_type": "code",
   "execution_count": 1,
   "id": "2f651415",
   "metadata": {},
   "outputs": [],
   "source": [
    "import numpy as np"
   ]
  },
  {
   "cell_type": "code",
   "execution_count": 9,
   "id": "5deb4059",
   "metadata": {},
   "outputs": [],
   "source": [
    "rand = np.random.RandomState(42)  # установили нач. значение рандомайзера"
   ]
  },
  {
   "cell_type": "code",
   "execution_count": 10,
   "id": "2be2303f",
   "metadata": {},
   "outputs": [
    {
     "data": {
      "text/plain": [
       "RandomState(MT19937) at 0x249F33A3740"
      ]
     },
     "execution_count": 10,
     "metadata": {},
     "output_type": "execute_result"
    }
   ],
   "source": [
    "rand"
   ]
  },
  {
   "cell_type": "code",
   "execution_count": 11,
   "id": "46569950",
   "metadata": {},
   "outputs": [],
   "source": [
    "x = rand.randint(100, size=10)"
   ]
  },
  {
   "cell_type": "code",
   "execution_count": 12,
   "id": "a7b93e9d",
   "metadata": {},
   "outputs": [
    {
     "data": {
      "text/plain": [
       "array([51, 92, 14, 71, 60, 20, 82, 86, 74, 74])"
      ]
     },
     "execution_count": 12,
     "metadata": {},
     "output_type": "execute_result"
    }
   ],
   "source": [
    "x"
   ]
  },
  {
   "cell_type": "code",
   "execution_count": 13,
   "id": "60137d6c",
   "metadata": {},
   "outputs": [
    {
     "data": {
      "text/plain": [
       "[71, 86, 14]"
      ]
     },
     "execution_count": 13,
     "metadata": {},
     "output_type": "execute_result"
    }
   ],
   "source": [
    "# обычный способ обращения к нескольким эл-там\n",
    "[x[3], x[7], x[2]]"
   ]
  },
  {
   "cell_type": "code",
   "execution_count": 14,
   "id": "0ebaa22c",
   "metadata": {},
   "outputs": [],
   "source": [
    "ind = [3, 7, 4]  # список индексов"
   ]
  },
  {
   "cell_type": "code",
   "execution_count": 15,
   "id": "07f0445b",
   "metadata": {},
   "outputs": [
    {
     "data": {
      "text/plain": [
       "array([71, 86, 60])"
      ]
     },
     "execution_count": 15,
     "metadata": {},
     "output_type": "execute_result"
    }
   ],
   "source": [
    "x[ind]  # прихотливая индексация"
   ]
  },
  {
   "cell_type": "code",
   "execution_count": null,
   "id": "fd329811",
   "metadata": {},
   "outputs": [],
   "source": [
    "Форма результата отражает форму массива индексов, а не форму индексируемого массива"
   ]
  },
  {
   "cell_type": "code",
   "execution_count": 16,
   "id": "a6a3ebe7",
   "metadata": {},
   "outputs": [],
   "source": [
    "ind = np.array([[3,7],\n",
    "                [4,5]])"
   ]
  },
  {
   "cell_type": "code",
   "execution_count": 17,
   "id": "1e7b83b5",
   "metadata": {},
   "outputs": [
    {
     "data": {
      "text/plain": [
       "array([[71, 86],\n",
       "       [60, 20]])"
      ]
     },
     "execution_count": 17,
     "metadata": {},
     "output_type": "execute_result"
    }
   ],
   "source": [
    "x[ind]"
   ]
  },
  {
   "cell_type": "code",
   "execution_count": 18,
   "id": "a1f711e8",
   "metadata": {},
   "outputs": [],
   "source": [
    "X = np.arange(12).reshape((3,4))"
   ]
  },
  {
   "cell_type": "code",
   "execution_count": 19,
   "id": "4fa13d72",
   "metadata": {},
   "outputs": [
    {
     "data": {
      "text/plain": [
       "array([[ 0,  1,  2,  3],\n",
       "       [ 4,  5,  6,  7],\n",
       "       [ 8,  9, 10, 11]])"
      ]
     },
     "execution_count": 19,
     "metadata": {},
     "output_type": "execute_result"
    }
   ],
   "source": [
    "X"
   ]
  },
  {
   "cell_type": "code",
   "execution_count": 20,
   "id": "e58070ba",
   "metadata": {},
   "outputs": [
    {
     "data": {
      "text/plain": [
       "array([ 2,  5, 11])"
      ]
     },
     "execution_count": 20,
     "metadata": {},
     "output_type": "execute_result"
    }
   ],
   "source": [
    "row = np.array([0, 1, 2])\n",
    "col = np.array([2, 1, 3])\n",
    "X[row, col]  # первый индекс - строка, второй - столбец\n",
    "# пары индексов X[0, 2] X[1, 1] X[2, 3] подчиняются правилам транслирования массивов"
   ]
  },
  {
   "cell_type": "code",
   "execution_count": 21,
   "id": "2cbac4d7",
   "metadata": {},
   "outputs": [
    {
     "data": {
      "text/plain": [
       "array([[ 2,  1,  3],\n",
       "       [ 6,  5,  7],\n",
       "       [10,  9, 11]])"
      ]
     },
     "execution_count": 21,
     "metadata": {},
     "output_type": "execute_result"
    }
   ],
   "source": [
    "X[row[:, np.newaxis], col]"
   ]
  },
  {
   "cell_type": "code",
   "execution_count": 22,
   "id": "e96449a4",
   "metadata": {},
   "outputs": [
    {
     "data": {
      "text/plain": [
       "array([[0, 0, 0],\n",
       "       [2, 1, 3],\n",
       "       [4, 2, 6]])"
      ]
     },
     "execution_count": 22,
     "metadata": {},
     "output_type": "execute_result"
    }
   ],
   "source": [
    "# каждое строчное значение соединяется с каждым вектором-столбцом точно так же, как при транслировании арифметических операций\n",
    "row[:, np.newaxis]*col"
   ]
  },
  {
   "cell_type": "markdown",
   "id": "66fb7605",
   "metadata": {},
   "source": [
    "##### Возвращаемое значение отражает транслируемую форму индексов, а не форму индексируемого массива!!!"
   ]
  },
  {
   "cell_type": "markdown",
   "id": "a9914e67",
   "metadata": {},
   "source": [
    "### Комбинированная индексация:"
   ]
  },
  {
   "cell_type": "code",
   "execution_count": 23,
   "id": "b790de27",
   "metadata": {},
   "outputs": [
    {
     "data": {
      "text/plain": [
       "array([[ 0,  1,  2,  3],\n",
       "       [ 4,  5,  6,  7],\n",
       "       [ 8,  9, 10, 11]])"
      ]
     },
     "execution_count": 23,
     "metadata": {},
     "output_type": "execute_result"
    }
   ],
   "source": [
    "X"
   ]
  },
  {
   "cell_type": "code",
   "execution_count": 24,
   "id": "1f624fcd",
   "metadata": {},
   "outputs": [
    {
     "data": {
      "text/plain": [
       "array([10,  8,  9])"
      ]
     },
     "execution_count": 24,
     "metadata": {},
     "output_type": "execute_result"
    }
   ],
   "source": [
    "X[2, [2, 0, 1]]  # где 2 - это номер строки\n",
    "# совместное использование простой и прихотливой индексации"
   ]
  },
  {
   "cell_type": "code",
   "execution_count": 25,
   "id": "50736f8a",
   "metadata": {},
   "outputs": [
    {
     "data": {
      "text/plain": [
       "array([[ 6,  4,  5],\n",
       "       [10,  8,  9]])"
      ]
     },
     "execution_count": 25,
     "metadata": {},
     "output_type": "execute_result"
    }
   ],
   "source": [
    "X[1:, [2, 0, 1]]  # совместное использование прихотливой индексации и срезов"
   ]
  },
  {
   "cell_type": "code",
   "execution_count": 26,
   "id": "a5876137",
   "metadata": {},
   "outputs": [],
   "source": [
    "# одновременное использование прихотливой индексации и МАСКИРОВАНИя\n",
    "mask = np.array([1, 0, 1, 0], dtype=bool)"
   ]
  },
  {
   "cell_type": "code",
   "execution_count": 27,
   "id": "e7efac17",
   "metadata": {},
   "outputs": [
    {
     "data": {
      "text/plain": [
       "array([ True, False,  True, False])"
      ]
     },
     "execution_count": 27,
     "metadata": {},
     "output_type": "execute_result"
    }
   ],
   "source": [
    "mask"
   ]
  },
  {
   "cell_type": "code",
   "execution_count": 28,
   "id": "45e4b785",
   "metadata": {},
   "outputs": [
    {
     "data": {
      "text/plain": [
       "array([[ 0,  2],\n",
       "       [ 4,  6],\n",
       "       [ 8, 10]])"
      ]
     },
     "execution_count": 28,
     "metadata": {},
     "output_type": "execute_result"
    }
   ],
   "source": [
    "X[row[:, np.newaxis], mask]"
   ]
  },
  {
   "cell_type": "code",
   "execution_count": 29,
   "id": "c0caf605",
   "metadata": {},
   "outputs": [
    {
     "data": {
      "text/plain": [
       "array([0, 1, 2])"
      ]
     },
     "execution_count": 29,
     "metadata": {},
     "output_type": "execute_result"
    }
   ],
   "source": [
    "row"
   ]
  },
  {
   "cell_type": "markdown",
   "id": "3a0b688a",
   "metadata": {},
   "source": [
    "### Пример: выборка случайных точек"
   ]
  },
  {
   "cell_type": "code",
   "execution_count": 30,
   "id": "15830a95",
   "metadata": {},
   "outputs": [
    {
     "data": {
      "text/plain": [
       "(100, 2)"
      ]
     },
     "execution_count": 30,
     "metadata": {},
     "output_type": "execute_result"
    }
   ],
   "source": [
    "mean = [0, 0]\n",
    "cov = [[1, 2],\n",
    "       [2, 5]]\n",
    "X = rand.multivariate_normal(mean, cov, 100)\n",
    "X.shape"
   ]
  },
  {
   "cell_type": "code",
   "execution_count": 32,
   "id": "86e9873c",
   "metadata": {},
   "outputs": [],
   "source": [
    "%matplotlib inline\n",
    "import matplotlib.pyplot as plt\n",
    "import seaborn\n",
    "seaborn.set()"
   ]
  },
  {
   "cell_type": "code",
   "execution_count": 33,
   "id": "17d64725",
   "metadata": {},
   "outputs": [
    {
     "data": {
      "text/plain": [
       "<matplotlib.collections.PathCollection at 0x249f82fd670>"
      ]
     },
     "execution_count": 33,
     "metadata": {},
     "output_type": "execute_result"
    },
    {
     "data": {
      "image/png": "[encoded data removed]",
      "text/plain": [
       "<Figure size 432x288 with 1 Axes>"
      ]
     },
     "metadata": {},
     "output_type": "display_data"
    }
   ],
   "source": [
    "plt.scatter(X[:, 0], X[:, 1])"
   ]
  },
  {
   "cell_type": "code",
   "execution_count": 34,
   "id": "949e54e2",
   "metadata": {},
   "outputs": [
    {
     "data": {
      "text/plain": [
       "array([92, 39, 79, 95, 55, 70, 62, 43, 58, 26, 75, 54,  7, 83, 16, 53,  1,\n",
       "       23, 60, 21])"
      ]
     },
     "execution_count": 34,
     "metadata": {},
     "output_type": "execute_result"
    }
   ],
   "source": [
    "ind = np.random.choice(X.shape[0], 20, replace=False)\n",
    "ind"
   ]
  },
  {
   "cell_type": "code",
   "execution_count": 35,
   "id": "16d95df3",
   "metadata": {},
   "outputs": [
    {
     "data": {
      "text/plain": [
       "array([[ 0.12065651,  1.13236323],\n",
       "       [-0.90649669, -0.93486441],\n",
       "       [-0.31332021, -1.7895623 ],\n",
       "       [-0.69144553, -1.56919875],\n",
       "       [ 0.69226246,  1.21504303],\n",
       "       [-1.16586444, -2.24482237],\n",
       "       [ 0.10259314,  1.24690575],\n",
       "       [ 0.37785618,  0.51409383],\n",
       "       [ 0.42044896,  1.85189522],\n",
       "       [ 0.32124996,  0.33137032],\n",
       "       [-1.03637857, -1.18469125],\n",
       "       [-0.34226126, -1.10666237],\n",
       "       [ 0.35282131,  1.49875397],\n",
       "       [ 0.74577693,  1.95834451],\n",
       "       [-3.0236127 , -6.00766046],\n",
       "       [ 0.6074983 ,  1.47089233],\n",
       "       [ 0.7376352 ,  1.21236921],\n",
       "       [-1.11518048, -1.87508012],\n",
       "       [-1.83106042, -2.91352836],\n",
       "       [ 0.99305043,  2.54294059]])"
      ]
     },
     "execution_count": 35,
     "metadata": {},
     "output_type": "execute_result"
    }
   ],
   "source": [
    "selection = X[ind]\n",
    "selection"
   ]
  },
  {
   "cell_type": "code",
   "execution_count": 36,
   "id": "9a3c67e3",
   "metadata": {},
   "outputs": [
    {
     "data": {
      "text/plain": [
       "(20, 2)"
      ]
     },
     "execution_count": 36,
     "metadata": {},
     "output_type": "execute_result"
    }
   ],
   "source": [
    "selection.shape"
   ]
  },
  {
   "cell_type": "code",
   "execution_count": 50,
   "id": "6c8082db",
   "metadata": {},
   "outputs": [
    {
     "data": {
      "text/plain": [
       "<matplotlib.collections.PathCollection at 0x249f994eee0>"
      ]
     },
     "execution_count": 50,
     "metadata": {},
     "output_type": "execute_result"
    },
    {
     "data": {
      "image/png": "[encoded data removed]",
      "text/plain": [
       "<Figure size 432x288 with 1 Axes>"
      ]
     },
     "metadata": {},
     "output_type": "display_data"
    }
   ],
   "source": [
    "plt.scatter(X[:, 0], X[:, 1], alpha=0.8)\n",
    "plt.scatter(selection[:, 0], selection[:, 1], facecolor='red', s=100, alpha=0.3)\n",
    "# X[:, 0] - первый столбец - это координаты по х\n",
    "# X[:, 1] - второй столбец - это координаты оп у\n",
    "# подобная стратегия часто используется для быстрого секционирования наборов данных, часто требуемого при разделении \n",
    "# на обучающую/тестовую последовательности для проверки статистических моделей"
   ]
  },
  {
   "cell_type": "markdown",
   "id": "aeeb3422",
   "metadata": {},
   "source": [
    "### Изменение значений с помощью прихотливой индексации"
   ]
  },
  {
   "cell_type": "code",
   "execution_count": 51,
   "id": "d2e62c66",
   "metadata": {},
   "outputs": [],
   "source": [
    "x = np.arange(10)"
   ]
  },
  {
   "cell_type": "code",
   "execution_count": 53,
   "id": "0d6a87d1",
   "metadata": {},
   "outputs": [
    {
     "data": {
      "text/plain": [
       "array([0, 1, 2, 3, 4, 5, 6, 7, 8, 9])"
      ]
     },
     "execution_count": 53,
     "metadata": {},
     "output_type": "execute_result"
    }
   ],
   "source": [
    "x"
   ]
  },
  {
   "cell_type": "code",
   "execution_count": 54,
   "id": "12f3cf00",
   "metadata": {},
   "outputs": [],
   "source": [
    "i = np.array([2, 1, 8, 4])"
   ]
  },
  {
   "cell_type": "code",
   "execution_count": 55,
   "id": "c0bfa72e",
   "metadata": {},
   "outputs": [],
   "source": [
    "x[i] = 99"
   ]
  },
  {
   "cell_type": "code",
   "execution_count": 56,
   "id": "a00ba3c9",
   "metadata": {},
   "outputs": [
    {
     "data": {
      "text/plain": [
       "array([ 0, 99, 99,  3, 99,  5,  6,  7, 99,  9])"
      ]
     },
     "execution_count": 56,
     "metadata": {},
     "output_type": "execute_result"
    }
   ],
   "source": [
    "x"
   ]
  },
  {
   "cell_type": "code",
   "execution_count": 57,
   "id": "eef80209",
   "metadata": {},
   "outputs": [],
   "source": [
    "x[i] -= 10  # сработает любой оператор присваивания"
   ]
  },
  {
   "cell_type": "code",
   "execution_count": 58,
   "id": "8b2236ba",
   "metadata": {},
   "outputs": [
    {
     "data": {
      "text/plain": [
       "array([ 0, 89, 89,  3, 89,  5,  6,  7, 89,  9])"
      ]
     },
     "execution_count": 58,
     "metadata": {},
     "output_type": "execute_result"
    }
   ],
   "source": [
    "x"
   ]
  },
  {
   "cell_type": "code",
   "execution_count": 59,
   "id": "22f013af",
   "metadata": {},
   "outputs": [
    {
     "data": {
      "text/plain": [
       "array([6., 0., 0., 0., 0., 0., 0., 0., 0., 0.])"
      ]
     },
     "execution_count": 59,
     "metadata": {},
     "output_type": "execute_result"
    }
   ],
   "source": [
    "# повторные индексы присваиваются по порядку:\n",
    "x = np.zeros(10)\n",
    "x[[0, 0]] = [4, 6]\n",
    "x"
   ]
  },
  {
   "cell_type": "code",
   "execution_count": 60,
   "id": "3448b8b2",
   "metadata": {},
   "outputs": [
    {
     "data": {
      "text/plain": [
       "array([6., 0., 1., 1., 1., 0., 0., 0., 0., 0.])"
      ]
     },
     "execution_count": 60,
     "metadata": {},
     "output_type": "execute_result"
    }
   ],
   "source": [
    "i = [2,3,3,4,4,4]\n",
    "x[i] += 1\n",
    "x"
   ]
  },
  {
   "cell_type": "code",
   "execution_count": null,
   "id": "cda08922",
   "metadata": {},
   "outputs": [],
   "source": [
    "# при этом инкрементация не выполнилась несколько раз, она как бы запомнила начальные данные,\n",
    "# и провела все операции с ними по отдельности"
   ]
  },
  {
   "cell_type": "code",
   "execution_count": null,
   "id": "de84a6c8",
   "metadata": {},
   "outputs": [],
   "source": [
    "# если мы хотим реализовать инкремент пропорционально кол-ву вхождений индекса, \n",
    "# то следует использовать метод .at() или .reduceat() операции .add <==>+:"
   ]
  },
  {
   "cell_type": "code",
   "execution_count": 61,
   "id": "8c6b5b29",
   "metadata": {},
   "outputs": [
    {
     "data": {
      "text/plain": [
       "array([0., 0., 1., 2., 3., 0., 0., 0., 0., 0.])"
      ]
     },
     "execution_count": 61,
     "metadata": {},
     "output_type": "execute_result"
    }
   ],
   "source": [
    "x = np.zeros(10)\n",
    "np.add.at(x, i, 1)\n",
    "x"
   ]
  },
  {
   "cell_type": "markdown",
   "id": "332fc031",
   "metadata": {},
   "source": [
    "### Пример: Разбиение данных на интервалы"
   ]
  },
  {
   "cell_type": "code",
   "execution_count": null,
   "id": "7f0ec98a",
   "metadata": {},
   "outputs": [],
   "source": [
    "# пусть есть 100 значений, необходимо понять как они распределяются по массиву интервалов"
   ]
  },
  {
   "cell_type": "code",
   "execution_count": 102,
   "id": "c9d8c340",
   "metadata": {},
   "outputs": [],
   "source": [
    "np.random.seed(42)\n",
    "x = np.random.randn(100)"
   ]
  },
  {
   "cell_type": "code",
   "execution_count": 103,
   "id": "aeb50085",
   "metadata": {},
   "outputs": [
    {
     "data": {
      "text/plain": [
       "array([ 0.49671415, -0.1382643 ,  0.64768854,  1.52302986, -0.23415337,\n",
       "       -0.23413696,  1.57921282,  0.76743473, -0.46947439,  0.54256004,\n",
       "       -0.46341769, -0.46572975,  0.24196227, -1.91328024, -1.72491783,\n",
       "       -0.56228753, -1.01283112,  0.31424733, -0.90802408, -1.4123037 ,\n",
       "        1.46564877, -0.2257763 ,  0.0675282 , -1.42474819, -0.54438272,\n",
       "        0.11092259, -1.15099358,  0.37569802, -0.60063869, -0.29169375,\n",
       "       -0.60170661,  1.85227818, -0.01349722, -1.05771093,  0.82254491,\n",
       "       -1.22084365,  0.2088636 , -1.95967012, -1.32818605,  0.19686124,\n",
       "        0.73846658,  0.17136828, -0.11564828, -0.3011037 , -1.47852199,\n",
       "       -0.71984421, -0.46063877,  1.05712223,  0.34361829, -1.76304016,\n",
       "        0.32408397, -0.38508228, -0.676922  ,  0.61167629,  1.03099952,\n",
       "        0.93128012, -0.83921752, -0.30921238,  0.33126343,  0.97554513,\n",
       "       -0.47917424, -0.18565898, -1.10633497, -1.19620662,  0.81252582,\n",
       "        1.35624003, -0.07201012,  1.0035329 ,  0.36163603, -0.64511975,\n",
       "        0.36139561,  1.53803657, -0.03582604,  1.56464366, -2.6197451 ,\n",
       "        0.8219025 ,  0.08704707, -0.29900735,  0.09176078, -1.98756891,\n",
       "       -0.21967189,  0.35711257,  1.47789404, -0.51827022, -0.8084936 ,\n",
       "       -0.50175704,  0.91540212,  0.32875111, -0.5297602 ,  0.51326743,\n",
       "        0.09707755,  0.96864499, -0.70205309, -0.32766215, -0.39210815,\n",
       "       -1.46351495,  0.29612028,  0.26105527,  0.00511346, -0.23458713])"
      ]
     },
     "execution_count": 103,
     "metadata": {},
     "output_type": "execute_result"
    }
   ],
   "source": [
    "x"
   ]
  },
  {
   "cell_type": "code",
   "execution_count": 104,
   "id": "f88fa394",
   "metadata": {},
   "outputs": [],
   "source": [
    "bins = np.linspace(-5, 5, 20)\n",
    "counts = np.zeros_like(bins)"
   ]
  },
  {
   "cell_type": "code",
   "execution_count": 105,
   "id": "7d17312b",
   "metadata": {},
   "outputs": [
    {
     "data": {
      "text/plain": [
       "array([-5.        , -4.47368421, -3.94736842, -3.42105263, -2.89473684,\n",
       "       -2.36842105, -1.84210526, -1.31578947, -0.78947368, -0.26315789,\n",
       "        0.26315789,  0.78947368,  1.31578947,  1.84210526,  2.36842105,\n",
       "        2.89473684,  3.42105263,  3.94736842,  4.47368421,  5.        ])"
      ]
     },
     "execution_count": 105,
     "metadata": {},
     "output_type": "execute_result"
    }
   ],
   "source": [
    "bins"
   ]
  },
  {
   "cell_type": "code",
   "execution_count": 106,
   "id": "0c0eeddf",
   "metadata": {},
   "outputs": [
    {
     "data": {
      "text/plain": [
       "array([0., 0., 0., 0., 0., 0., 0., 0., 0., 0., 0., 0., 0., 0., 0., 0., 0.,\n",
       "       0., 0., 0.])"
      ]
     },
     "execution_count": 106,
     "metadata": {},
     "output_type": "execute_result"
    }
   ],
   "source": [
    "counts"
   ]
  },
  {
   "cell_type": "code",
   "execution_count": 107,
   "id": "3689116c",
   "metadata": {},
   "outputs": [
    {
     "data": {
      "text/plain": [
       "20"
      ]
     },
     "execution_count": 107,
     "metadata": {},
     "output_type": "execute_result"
    }
   ],
   "source": [
    "bins.size"
   ]
  },
  {
   "cell_type": "code",
   "execution_count": 108,
   "id": "7c1ff9d3",
   "metadata": {},
   "outputs": [
    {
     "data": {
      "text/plain": [
       "20"
      ]
     },
     "execution_count": 108,
     "metadata": {},
     "output_type": "execute_result"
    }
   ],
   "source": [
    "counts.size"
   ]
  },
  {
   "cell_type": "code",
   "execution_count": 109,
   "id": "b9791c8a",
   "metadata": {},
   "outputs": [],
   "source": [
    "i = np.searchsorted(bins, x)"
   ]
  },
  {
   "cell_type": "code",
   "execution_count": 110,
   "id": "990cb485",
   "metadata": {},
   "outputs": [
    {
     "data": {
      "text/plain": [
       "array([11, 10, 11, 13, 10, 10, 13, 11,  9, 11,  9,  9, 10,  6,  7,  9,  8,\n",
       "       11,  8,  7, 13, 10, 10,  7,  9, 10,  8, 11,  9,  9,  9, 14, 10,  8,\n",
       "       12,  8, 10,  6,  7, 10, 11, 10, 10,  9,  7,  9,  9, 12, 11,  7, 11,\n",
       "        9,  9, 11, 12, 12,  8,  9, 11, 12,  9, 10,  8,  8, 12, 13, 10, 12,\n",
       "       11,  9, 11, 13, 10, 13,  5, 12, 10,  9, 10,  6, 10, 11, 13,  9,  8,\n",
       "        9, 12, 11,  9, 11, 10, 12,  9,  9,  9,  7, 11, 10, 10, 10],\n",
       "      dtype=int64)"
      ]
     },
     "execution_count": 110,
     "metadata": {},
     "output_type": "execute_result"
    }
   ],
   "source": [
    "i"
   ]
  },
  {
   "cell_type": "code",
   "execution_count": 111,
   "id": "ac8a01f0",
   "metadata": {},
   "outputs": [],
   "source": [
    "np.add.at(counts, i, 1)"
   ]
  },
  {
   "cell_type": "code",
   "execution_count": 112,
   "id": "83c1e046",
   "metadata": {},
   "outputs": [
    {
     "data": {
      "text/plain": [
       "array([ 0.,  0.,  0.,  0.,  0.,  1.,  3.,  7.,  9., 23., 22., 17., 10.,\n",
       "        7.,  1.,  0.,  0.,  0.,  0.,  0.])"
      ]
     },
     "execution_count": 112,
     "metadata": {},
     "output_type": "execute_result"
    }
   ],
   "source": [
    "counts"
   ]
  },
  {
   "cell_type": "code",
   "execution_count": 113,
   "id": "fe875752",
   "metadata": {},
   "outputs": [
    {
     "data": {
      "text/plain": [
       "[<matplotlib.lines.Line2D at 0x249fa442340>]"
      ]
     },
     "execution_count": 113,
     "metadata": {},
     "output_type": "execute_result"
    },
    {
     "data": {
      "image/png": "[encoded data removed]",
      "text/plain": [
       "<Figure size 432x288 with 1 Axes>"
      ]
     },
     "metadata": {},
     "output_type": "display_data"
    }
   ],
   "source": [
    "plt.plot(bins, counts)"
   ]
  },
  {
   "cell_type": "code",
   "execution_count": 114,
   "id": "b117ee28",
   "metadata": {},
   "outputs": [
    {
     "data": {
      "text/plain": [
       "(array([ 0.,  0.,  0.,  0.,  1.,  3.,  7.,  9., 23., 22., 17., 10.,  7.,\n",
       "         1.,  0.,  0.,  0.,  0.,  0.]),\n",
       " array([-5.        , -4.47368421, -3.94736842, -3.42105263, -2.89473684,\n",
       "        -2.36842105, -1.84210526, -1.31578947, -0.78947368, -0.26315789,\n",
       "         0.26315789,  0.78947368,  1.31578947,  1.84210526,  2.36842105,\n",
       "         2.89473684,  3.42105263,  3.94736842,  4.47368421,  5.        ]),\n",
       " <BarContainer object of 19 artists>)"
      ]
     },
     "execution_count": 114,
     "metadata": {},
     "output_type": "execute_result"
    },
    {
     "data": {
      "image/png": "[encoded data removed]",
      "text/plain": [
       "<Figure size 432x288 with 1 Axes>"
      ]
     },
     "metadata": {},
     "output_type": "display_data"
    }
   ],
   "source": [
    "plt.hist(x, bins)"
   ]
  },
  {
   "cell_type": "code",
   "execution_count": null,
   "id": "b2f8923a",
   "metadata": {},
   "outputs": [],
   "source": []
  }
 ],
 "metadata": {
  "kernelspec": {
   "display_name": "Python 3 (ipykernel)",
   "language": "python",
   "name": "python3"
  },
  "language_info": {
   "codemirror_mode": {
    "name": "ipython",
    "version": 3
   },
   "file_extension": ".py",
   "mimetype": "text/x-python",
   "name": "python",
   "nbconvert_exporter": "python",
   "pygments_lexer": "ipython3",
   "version": "3.9.7"
  }
 },
 "nbformat": 4,
 "nbformat_minor": 5
}
