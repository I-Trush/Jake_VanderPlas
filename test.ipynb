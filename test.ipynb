{
 "cells": [
  {
   "cell_type": "code",
   "execution_count": 1,
   "id": "5bc5b4aa",
   "metadata": {},
   "outputs": [],
   "source": [
    "import pandas as pd"
   ]
  },
  {
   "cell_type": "code",
   "execution_count": 2,
   "id": "f485a17b",
   "metadata": {},
   "outputs": [],
   "source": [
    "df=pd.read_csv('http://bit.ly/autompg-csv')"
   ]
  },
  {
   "cell_type": "code",
   "execution_count": 3,
   "id": "5cae70e5",
   "metadata": {},
   "outputs": [
    {
     "data": {
      "text/html": [
       "<div>\n",
       "<style scoped>\n",
       "    .dataframe tbody tr th:only-of-type {\n",
       "        vertical-align: middle;\n",
       "    }\n",
       "\n",
       "    .dataframe tbody tr th {\n",
       "        vertical-align: top;\n",
       "    }\n",
       "\n",
       "    .dataframe thead th {\n",
       "        text-align: right;\n",
       "    }\n",
       "</style>\n",
       "<table border=\"1\" class=\"dataframe\">\n",
       "  <thead>\n",
       "    <tr style=\"text-align: right;\">\n",
       "      <th></th>\n",
       "      <th>mpg</th>\n",
       "      <th>cyl</th>\n",
       "      <th>displ</th>\n",
       "      <th>hp</th>\n",
       "      <th>weight</th>\n",
       "      <th>accel</th>\n",
       "      <th>yr</th>\n",
       "      <th>origin</th>\n",
       "      <th>name</th>\n",
       "    </tr>\n",
       "  </thead>\n",
       "  <tbody>\n",
       "    <tr>\n",
       "      <th>0</th>\n",
       "      <td>18.0</td>\n",
       "      <td>8</td>\n",
       "      <td>307.0</td>\n",
       "      <td>130</td>\n",
       "      <td>3504</td>\n",
       "      <td>12.0</td>\n",
       "      <td>70</td>\n",
       "      <td>US</td>\n",
       "      <td>chevrolet chevelle malibu</td>\n",
       "    </tr>\n",
       "    <tr>\n",
       "      <th>1</th>\n",
       "      <td>15.0</td>\n",
       "      <td>8</td>\n",
       "      <td>350.0</td>\n",
       "      <td>165</td>\n",
       "      <td>3693</td>\n",
       "      <td>11.5</td>\n",
       "      <td>70</td>\n",
       "      <td>US</td>\n",
       "      <td>buick skylark 320</td>\n",
       "    </tr>\n",
       "    <tr>\n",
       "      <th>2</th>\n",
       "      <td>18.0</td>\n",
       "      <td>8</td>\n",
       "      <td>318.0</td>\n",
       "      <td>150</td>\n",
       "      <td>3436</td>\n",
       "      <td>11.0</td>\n",
       "      <td>70</td>\n",
       "      <td>US</td>\n",
       "      <td>plymouth satellite</td>\n",
       "    </tr>\n",
       "    <tr>\n",
       "      <th>3</th>\n",
       "      <td>16.0</td>\n",
       "      <td>8</td>\n",
       "      <td>304.0</td>\n",
       "      <td>150</td>\n",
       "      <td>3433</td>\n",
       "      <td>12.0</td>\n",
       "      <td>70</td>\n",
       "      <td>US</td>\n",
       "      <td>amc rebel sst</td>\n",
       "    </tr>\n",
       "    <tr>\n",
       "      <th>4</th>\n",
       "      <td>17.0</td>\n",
       "      <td>8</td>\n",
       "      <td>302.0</td>\n",
       "      <td>140</td>\n",
       "      <td>3449</td>\n",
       "      <td>10.5</td>\n",
       "      <td>70</td>\n",
       "      <td>US</td>\n",
       "      <td>ford torino</td>\n",
       "    </tr>\n",
       "  </tbody>\n",
       "</table>\n",
       "</div>"
      ],
      "text/plain": [
       "    mpg  cyl  displ   hp  weight  accel  yr origin                       name\n",
       "0  18.0    8  307.0  130    3504   12.0  70     US  chevrolet chevelle malibu\n",
       "1  15.0    8  350.0  165    3693   11.5  70     US          buick skylark 320\n",
       "2  18.0    8  318.0  150    3436   11.0  70     US         plymouth satellite\n",
       "3  16.0    8  304.0  150    3433   12.0  70     US              amc rebel sst\n",
       "4  17.0    8  302.0  140    3449   10.5  70     US                ford torino"
      ]
     },
     "execution_count": 3,
     "metadata": {},
     "output_type": "execute_result"
    }
   ],
   "source": [
    "df.head()"
   ]
  },
  {
   "cell_type": "code",
   "execution_count": null,
   "id": "bd50a9e6",
   "metadata": {},
   "outputs": [],
   "source": []
  },
  {
   "cell_type": "code",
   "execution_count": null,
   "id": "92010db7",
   "metadata": {},
   "outputs": [],
   "source": []
  },
  {
   "cell_type": "code",
   "execution_count": 34,
   "id": "e2ae9e7e",
   "metadata": {},
   "outputs": [],
   "source": [
    "a = 'abcdefghijklmnopqrstuvwxyz'"
   ]
  },
  {
   "cell_type": "code",
   "execution_count": 10,
   "id": "9f2e8f9f",
   "metadata": {},
   "outputs": [],
   "source": [
    "def cicle_left(A):\n",
    "    \"\"\"циклический сдвиг влево\n",
    "    \"\"\"\n",
    "    x = A[0]\n",
    "    for k in range(len(A) - 1):\n",
    "        A[k] = A[k + 1]\n",
    "    A[len(A) - 1] = x\n",
    "    return A"
   ]
  },
  {
   "cell_type": "code",
   "execution_count": 16,
   "id": "7171a925",
   "metadata": {},
   "outputs": [],
   "source": [
    "A = list(a)"
   ]
  },
  {
   "cell_type": "code",
   "execution_count": 17,
   "id": "42d1c520",
   "metadata": {},
   "outputs": [
    {
     "data": {
      "text/plain": [
       "['a', 'b', 'c', 'd', 'e']"
      ]
     },
     "execution_count": 17,
     "metadata": {},
     "output_type": "execute_result"
    }
   ],
   "source": [
    "A"
   ]
  },
  {
   "cell_type": "code",
   "execution_count": 18,
   "id": "a6d98133",
   "metadata": {},
   "outputs": [
    {
     "data": {
      "text/plain": [
       "['b', 'c', 'd', 'e', 'a']"
      ]
     },
     "execution_count": 18,
     "metadata": {},
     "output_type": "execute_result"
    }
   ],
   "source": [
    "cicle_left(A)"
   ]
  },
  {
   "cell_type": "code",
   "execution_count": 26,
   "id": "1f0f6033",
   "metadata": {},
   "outputs": [],
   "source": [
    "def cezar(string, N):\n",
    "    str_list = list(string)\n",
    "    for i in range(N):\n",
    "        cicle_left(str_list)\n",
    "    return ''.join(str_list)\n",
    "#долгий"
   ]
  },
  {
   "cell_type": "code",
   "execution_count": 27,
   "id": "f6f0a0ab",
   "metadata": {},
   "outputs": [
    {
     "data": {
      "text/plain": [
       "'deabc'"
      ]
     },
     "execution_count": 27,
     "metadata": {},
     "output_type": "execute_result"
    }
   ],
   "source": [
    "cezar(a, 3)"
   ]
  },
  {
   "cell_type": "code",
   "execution_count": 37,
   "id": "26288170",
   "metadata": {},
   "outputs": [],
   "source": [
    "def shift(N):\n",
    "    a = 'abcdefghijklmnopqrstuvwxyz'\n",
    "    return a[N:] + a[:N]"
   ]
  },
  {
   "cell_type": "code",
   "execution_count": 36,
   "id": "67f05c0c",
   "metadata": {},
   "outputs": [
    {
     "data": {
      "text/plain": [
       "'defghijklmnopqrstuvwxyzabc'"
      ]
     },
     "execution_count": 36,
     "metadata": {},
     "output_type": "execute_result"
    }
   ],
   "source": [
    "cezar_linear(a, 3)"
   ]
  },
  {
   "cell_type": "code",
   "execution_count": 59,
   "id": "939c0fc7",
   "metadata": {},
   "outputs": [],
   "source": [
    "# def cezar(string, N):\n",
    "#     abc = 'abcdefghijklmnopqrstuvwxyz'\n",
    "#     abc_shift = abc[N:] + abc[:N]\n",
    "#     print(abc, '\\n', abc_shift)\n",
    "#     dict_cezar = dict(zip(abc, abc_shift))\n",
    "#     return dict_cezar"
   ]
  },
  {
   "cell_type": "code",
   "execution_count": 72,
   "id": "c35330fb",
   "metadata": {},
   "outputs": [],
   "source": [
    "# def cezar(string, N):\n",
    "#     abc = 'abcdefghijklmnopqrstuvwxyz'\n",
    "#     abc_shift = abc[N:] + abc[:N]\n",
    "#     dict_cezar = dict(zip(abc, abc_shift))\n",
    "#     new_string = []\n",
    "#     for x in string:\n",
    "#         new_string = new_string + list(dict_cezar[x])\n",
    "#     return ''.join(new_string)"
   ]
  },
  {
   "cell_type": "code",
   "execution_count": null,
   "id": "550e628e",
   "metadata": {},
   "outputs": [],
   "source": []
  },
  {
   "cell_type": "code",
   "execution_count": 80,
   "id": "288fd128",
   "metadata": {},
   "outputs": [],
   "source": [
    "def cezar(string, N):\n",
    "    abc = 'abcdefghijklmnopqrstuvwxyz'\n",
    "    abc_shift = abc[N:] + abc[:N]\n",
    "    dict_cezar = dict(zip(abc + ' ', abc_shift + ' '))\n",
    "    new_string = []\n",
    "    for x in string:\n",
    "        new_string = new_string + list(dict_cezar[x])\n",
    "    return ''.join(new_string)"
   ]
  },
  {
   "cell_type": "code",
   "execution_count": null,
   "id": "2e99aacd",
   "metadata": {},
   "outputs": [],
   "source": []
  },
  {
   "cell_type": "code",
   "execution_count": null,
   "id": "1bcc4bdd",
   "metadata": {},
   "outputs": [],
   "source": []
  },
  {
   "cell_type": "code",
   "execution_count": null,
   "id": "9f56fa2b",
   "metadata": {},
   "outputs": [],
   "source": []
  },
  {
   "cell_type": "code",
   "execution_count": null,
   "id": "452d3f64",
   "metadata": {},
   "outputs": [],
   "source": []
  },
  {
   "cell_type": "code",
   "execution_count": 76,
   "id": "9e89aff1",
   "metadata": {},
   "outputs": [],
   "source": [
    "hello = 'bacbacbac abc abcabc'"
   ]
  },
  {
   "cell_type": "code",
   "execution_count": 81,
   "id": "34e4fbfe",
   "metadata": {},
   "outputs": [
    {
     "data": {
      "text/plain": [
       "'edfedfedf def defdef'"
      ]
     },
     "execution_count": 81,
     "metadata": {},
     "output_type": "execute_result"
    }
   ],
   "source": [
    "cezar(hello, 3)"
   ]
  },
  {
   "cell_type": "code",
   "execution_count": null,
   "id": "d5c83d05",
   "metadata": {},
   "outputs": [],
   "source": []
  },
  {
   "cell_type": "code",
   "execution_count": null,
   "id": "961f3749",
   "metadata": {},
   "outputs": [],
   "source": []
  },
  {
   "cell_type": "code",
   "execution_count": 1,
   "id": "cc84b131",
   "metadata": {},
   "outputs": [
    {
     "name": "stdout",
     "output_type": "stream",
     "text": [
      "defaultdict(<class 'int'>, {'t': 3, 'h': 1, 'e': 2, ' ': 8, 'r': 2, 'd': 2, 'f': 2, 'o': 2, 'x': 1, 'a': 4, 'n': 1, 's': 3, 'i': 1, 'c': 1, 'u': 1, 'l': 1})\n"
     ]
    }
   ],
   "source": [
    "from collections import defaultdict\n",
    "\n",
    "my_default_dict = defaultdict(int)\n",
    "for letter in 'the red fox ran as fast as it could':\n",
    "    my_default_dict[letter] += 1\n",
    "print(my_default_dict)\n",
    "\n",
    "# defaultdict - крутая штука, лучше всего подходит для частотного анализа"
   ]
  },
  {
   "cell_type": "code",
   "execution_count": 4,
   "id": "320fcb75",
   "metadata": {},
   "outputs": [
    {
     "name": "stdout",
     "output_type": "stream",
     "text": [
      "{'t': 3, 'h': 1, 'e': 2, ' ': 8, 'r': 2, 'd': 2, 'f': 2, 'o': 2, 'x': 1, 'a': 4, 'n': 1, 's': 3, 'i': 1, 'c': 1, 'u': 1, 'l': 1}\n"
     ]
    }
   ],
   "source": [
    "# Не обязательно, у словарей есть метод get\n",
    "\n",
    "my_default_dict = dict()\n",
    "for letter in 'the red fox ran as fast as it could':\n",
    "    my_default_dict[letter] = my_default_dict.get(letter,0) + 1\n",
    "print(my_default_dict)"
   ]
  },
  {
   "cell_type": "code",
   "execution_count": null,
   "id": "fab11ab3",
   "metadata": {},
   "outputs": [],
   "source": [
    "# А еще есть setdefault\n",
    "\n",
    "new = {}\n",
    "for key, value in data:\n",
    "    group = new.setdefault(key, []) # key might exist already\n",
    "    group.append(value)"
   ]
  },
  {
   "cell_type": "code",
   "execution_count": null,
   "id": "3af58c8a",
   "metadata": {},
   "outputs": [],
   "source": [
    "class MyDict(dict):\n",
    "    def __missing__(self, key):\n",
    "        print(\"Oh no\")\n",
    "        return 123"
   ]
  },
  {
   "cell_type": "code",
   "execution_count": 7,
   "id": "89884bf8",
   "metadata": {},
   "outputs": [
    {
     "data": {
      "text/plain": [
       "0"
      ]
     },
     "execution_count": 7,
     "metadata": {},
     "output_type": "execute_result"
    }
   ],
   "source": [
    "class Counter(dict):\n",
    "    def __missing__(self, key):\n",
    "        return 0\n",
    "c = Counter()\n",
    "c['red']"
   ]
  },
  {
   "cell_type": "code",
   "execution_count": 8,
   "id": "3ba60084",
   "metadata": {},
   "outputs": [
    {
     "data": {
      "text/plain": [
       "1"
      ]
     },
     "execution_count": 8,
     "metadata": {},
     "output_type": "execute_result"
    }
   ],
   "source": [
    "c['red'] += 1\n",
    "c['red']"
   ]
  },
  {
   "cell_type": "code",
   "execution_count": null,
   "id": "197545b7",
   "metadata": {},
   "outputs": [],
   "source": []
  },
  {
   "cell_type": "code",
   "execution_count": null,
   "id": "039498d7",
   "metadata": {},
   "outputs": [],
   "source": []
  },
  {
   "cell_type": "code",
   "execution_count": null,
   "id": "98240ec2",
   "metadata": {},
   "outputs": [],
   "source": []
  },
  {
   "cell_type": "code",
   "execution_count": 2,
   "id": "42ef3485",
   "metadata": {},
   "outputs": [
    {
     "name": "stdout",
     "output_type": "stream",
     "text": [
      "[(22, 5), (25, 3), (30, 2), (24, 2), (26, 1), (35, 1), (45, 1), (52, 1), (16, 1), (11, 1), (15, 1), (40, 1)]\n"
     ]
    }
   ],
   "source": [
    "from collections import Counter\n",
    "\n",
    "ages = [22, 22, 25, 25, 30, 24, 26, 24, 35, 45, 52, 22, 22, 22, 25, 16, 11, 15, 40, 30]\n",
    "value_counts = Counter(ages)\n",
    "print(value_counts.most_common())"
   ]
  },
  {
   "cell_type": "code",
   "execution_count": 3,
   "id": "0eb30b94",
   "metadata": {},
   "outputs": [
    {
     "name": "stdout",
     "output_type": "stream",
     "text": [
      "22\n"
     ]
    }
   ],
   "source": [
    "from collections import namedtuple\n",
    "\n",
    "Features = namedtuple('Features', ['age', 'gender', 'name'])\n",
    "row = Features(age=22, gender='male', name='Alex')\n",
    "print(row.age)"
   ]
  },
  {
   "cell_type": "code",
   "execution_count": null,
   "id": "75e7cee1",
   "metadata": {},
   "outputs": [],
   "source": []
  },
  {
   "cell_type": "code",
   "execution_count": null,
   "id": "a736bd02",
   "metadata": {},
   "outputs": [],
   "source": []
  },
  {
   "cell_type": "code",
   "execution_count": null,
   "id": "d3761f91",
   "metadata": {},
   "outputs": [],
   "source": []
  },
  {
   "cell_type": "code",
   "execution_count": null,
   "id": "c7d9ba6b",
   "metadata": {},
   "outputs": [],
   "source": []
  },
  {
   "cell_type": "code",
   "execution_count": null,
   "id": "2deaf80d",
   "metadata": {},
   "outputs": [],
   "source": []
  }
 ],
 "metadata": {
  "kernelspec": {
   "display_name": "Python 3 (ipykernel)",
   "language": "python",
   "name": "python3"
  },
  "language_info": {
   "codemirror_mode": {
    "name": "ipython",
    "version": 3
   },
   "file_extension": ".py",
   "mimetype": "text/x-python",
   "name": "python",
   "nbconvert_exporter": "python",
   "pygments_lexer": "ipython3",
   "version": "3.9.7"
  }
 },
 "nbformat": 4,
 "nbformat_minor": 5
}
