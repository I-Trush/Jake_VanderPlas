{
 "cells": [
  {
   "cell_type": "markdown",
   "id": "510086eb",
   "metadata": {},
   "source": [
    "## Иерархическая индексация (heirarchical indexing)\n",
    "    Многомерные данные могут храниться путем использования объектов Panel - 3D, и Panel4D - для 4D или\n",
    "    Иерархической индексации (или мультииндекс multi-indexing) для N-мерных структур."
   ]
  },
  {
   "cell_type": "code",
   "execution_count": 1,
   "id": "aba7a333",
   "metadata": {},
   "outputs": [],
   "source": [
    "import numpy as np\n",
    "import pandas as pd"
   ]
  },
  {
   "cell_type": "markdown",
   "id": "c16a469b",
   "metadata": {},
   "source": [
    "### Мультииндексированный объект Series"
   ]
  },
  {
   "cell_type": "code",
   "execution_count": 2,
   "id": "6ca88247",
   "metadata": {},
   "outputs": [],
   "source": [
    "index = [\n",
    "    ('c', 2000), ('c', 2010),\n",
    "    ('n', 2000), ('n', 2010),\n",
    "    ('t', 2000), ('t', 2010)\n",
    "]\n",
    "populations = [3387, 3725,\n",
    "              1897, 1937,\n",
    "              2085, 2514]"
   ]
  },
  {
   "cell_type": "code",
   "execution_count": 3,
   "id": "f7676d60",
   "metadata": {},
   "outputs": [],
   "source": [
    "pop = pd.Series(populations, index=index)"
   ]
  },
  {
   "cell_type": "code",
   "execution_count": 4,
   "id": "4a57c919",
   "metadata": {},
   "outputs": [
    {
     "data": {
      "text/plain": [
       "(c, 2000)    3387\n",
       "(c, 2010)    3725\n",
       "(n, 2000)    1897\n",
       "(n, 2010)    1937\n",
       "(t, 2000)    2085\n",
       "(t, 2010)    2514\n",
       "dtype: int64"
      ]
     },
     "execution_count": 4,
     "metadata": {},
     "output_type": "execute_result"
    }
   ],
   "source": [
    "pop\n",
    "# это еще не мультииндекс, это картежи-ключи"
   ]
  },
  {
   "cell_type": "code",
   "execution_count": 5,
   "id": "8acde486",
   "metadata": {},
   "outputs": [
    {
     "data": {
      "text/plain": [
       "MultiIndex([('c', 2000),\n",
       "            ('c', 2010),\n",
       "            ('n', 2000),\n",
       "            ('n', 2010),\n",
       "            ('t', 2000),\n",
       "            ('t', 2010)],\n",
       "           )"
      ]
     },
     "execution_count": 5,
     "metadata": {},
     "output_type": "execute_result"
    }
   ],
   "source": [
    "index = pd.MultiIndex.from_tuples(index)\n",
    "index"
   ]
  },
  {
   "cell_type": "code",
   "execution_count": 6,
   "id": "afa263ac",
   "metadata": {},
   "outputs": [],
   "source": [
    "pop = pop.reindex(index)\n",
    "# вот это мультииндекс"
   ]
  },
  {
   "cell_type": "code",
   "execution_count": 7,
   "id": "b5c78312",
   "metadata": {},
   "outputs": [
    {
     "data": {
      "text/plain": [
       "c  2000    3387\n",
       "   2010    3725\n",
       "n  2000    1897\n",
       "   2010    1937\n",
       "t  2000    2085\n",
       "   2010    2514\n",
       "dtype: int64"
      ]
     },
     "execution_count": 7,
     "metadata": {},
     "output_type": "execute_result"
    }
   ],
   "source": [
    "pop"
   ]
  },
  {
   "cell_type": "code",
   "execution_count": 8,
   "id": "046d0776",
   "metadata": {},
   "outputs": [
    {
     "data": {
      "text/plain": [
       "c    3725\n",
       "n    1937\n",
       "t    2514\n",
       "dtype: int64"
      ]
     },
     "execution_count": 8,
     "metadata": {},
     "output_type": "execute_result"
    }
   ],
   "source": [
    "# мультииндекс любит срезы:\n",
    "pop[:, 2010]"
   ]
  },
  {
   "cell_type": "markdown",
   "id": "94d8bc97",
   "metadata": {},
   "source": [
    "#### Мультииндекс как доп. измерение:"
   ]
  },
  {
   "cell_type": "code",
   "execution_count": null,
   "id": "4fd2a98f",
   "metadata": {},
   "outputs": [],
   "source": []
  },
  {
   "cell_type": "code",
   "execution_count": null,
   "id": "92d73ea3",
   "metadata": {},
   "outputs": [],
   "source": []
  },
  {
   "cell_type": "code",
   "execution_count": null,
   "id": "6e049caf",
   "metadata": {},
   "outputs": [],
   "source": []
  },
  {
   "cell_type": "code",
   "execution_count": null,
   "id": "f83910c2",
   "metadata": {},
   "outputs": [],
   "source": []
  },
  {
   "cell_type": "code",
   "execution_count": null,
   "id": "296a9b35",
   "metadata": {},
   "outputs": [],
   "source": []
  },
  {
   "cell_type": "code",
   "execution_count": null,
   "id": "1643ed54",
   "metadata": {},
   "outputs": [],
   "source": []
  },
  {
   "cell_type": "code",
   "execution_count": null,
   "id": "b412f8a9",
   "metadata": {},
   "outputs": [],
   "source": []
  },
  {
   "cell_type": "code",
   "execution_count": null,
   "id": "82ff733c",
   "metadata": {},
   "outputs": [],
   "source": []
  },
  {
   "cell_type": "code",
   "execution_count": null,
   "id": "aa556d00",
   "metadata": {},
   "outputs": [],
   "source": []
  },
  {
   "cell_type": "code",
   "execution_count": null,
   "id": "7e50af65",
   "metadata": {},
   "outputs": [],
   "source": []
  },
  {
   "cell_type": "code",
   "execution_count": null,
   "id": "4e3565ab",
   "metadata": {},
   "outputs": [],
   "source": []
  },
  {
   "cell_type": "code",
   "execution_count": null,
   "id": "43ebf8e5",
   "metadata": {},
   "outputs": [],
   "source": []
  },
  {
   "cell_type": "code",
   "execution_count": null,
   "id": "8c5b0f1d",
   "metadata": {},
   "outputs": [],
   "source": []
  },
  {
   "cell_type": "code",
   "execution_count": null,
   "id": "bc4ff423",
   "metadata": {},
   "outputs": [],
   "source": []
  },
  {
   "cell_type": "code",
   "execution_count": null,
   "id": "e26116be",
   "metadata": {},
   "outputs": [],
   "source": []
  },
  {
   "cell_type": "code",
   "execution_count": null,
   "id": "5123e591",
   "metadata": {},
   "outputs": [],
   "source": []
  },
  {
   "cell_type": "code",
   "execution_count": null,
   "id": "b4a29384",
   "metadata": {},
   "outputs": [],
   "source": []
  },
  {
   "cell_type": "code",
   "execution_count": null,
   "id": "77a5f7b2",
   "metadata": {},
   "outputs": [],
   "source": []
  }
 ],
 "metadata": {
  "kernelspec": {
   "display_name": "Python 3 (ipykernel)",
   "language": "python",
   "name": "python3"
  },
  "language_info": {
   "codemirror_mode": {
    "name": "ipython",
    "version": 3
   },
   "file_extension": ".py",
   "mimetype": "text/x-python",
   "name": "python",
   "nbconvert_exporter": "python",
   "pygments_lexer": "ipython3",
   "version": "3.9.7"
  }
 },
 "nbformat": 4,
 "nbformat_minor": 5
}
