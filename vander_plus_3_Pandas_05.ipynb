{
 "cells": [
  {
   "cell_type": "markdown",
   "id": "510086eb",
   "metadata": {},
   "source": [
    "## Иерархическая индексация (heirarchical indexing)\n",
    "    Многомерные данные могут храниться путем использования объектов Panel - 3D, и Panel4D - для 4D или\n",
    "    Иерархической индексации (или мультииндекс multi-indexing) для N-мерных структур."
   ]
  },
  {
   "cell_type": "code",
   "execution_count": 1,
   "id": "aba7a333",
   "metadata": {},
   "outputs": [],
   "source": [
    "import numpy as np\n",
    "import pandas as pd"
   ]
  },
  {
   "cell_type": "markdown",
   "id": "c16a469b",
   "metadata": {},
   "source": [
    "### Мультииндексированный объект Series"
   ]
  },
  {
   "cell_type": "code",
   "execution_count": 2,
   "id": "6ca88247",
   "metadata": {},
   "outputs": [],
   "source": [
    "index = [\n",
    "    ('c', 2000), ('c', 2010),\n",
    "    ('n', 2000), ('n', 2010),\n",
    "    ('t', 2000), ('t', 2010)\n",
    "]\n",
    "populations = [3387, 3725,\n",
    "              1897, 1937,\n",
    "              2085, 2514]"
   ]
  },
  {
   "cell_type": "code",
   "execution_count": 3,
   "id": "f7676d60",
   "metadata": {},
   "outputs": [],
   "source": [
    "pop = pd.Series(populations, index=index)"
   ]
  },
  {
   "cell_type": "code",
   "execution_count": 4,
   "id": "4a57c919",
   "metadata": {},
   "outputs": [
    {
     "data": {
      "text/plain": [
       "(c, 2000)    3387\n",
       "(c, 2010)    3725\n",
       "(n, 2000)    1897\n",
       "(n, 2010)    1937\n",
       "(t, 2000)    2085\n",
       "(t, 2010)    2514\n",
       "dtype: int64"
      ]
     },
     "execution_count": 4,
     "metadata": {},
     "output_type": "execute_result"
    }
   ],
   "source": [
    "pop\n",
    "# это еще не мультииндекс, это картежи-ключи"
   ]
  },
  {
   "cell_type": "code",
   "execution_count": 5,
   "id": "8acde486",
   "metadata": {},
   "outputs": [
    {
     "data": {
      "text/plain": [
       "MultiIndex([('c', 2000),\n",
       "            ('c', 2010),\n",
       "            ('n', 2000),\n",
       "            ('n', 2010),\n",
       "            ('t', 2000),\n",
       "            ('t', 2010)],\n",
       "           )"
      ]
     },
     "execution_count": 5,
     "metadata": {},
     "output_type": "execute_result"
    }
   ],
   "source": [
    "index = pd.MultiIndex.from_tuples(index)\n",
    "index"
   ]
  },
  {
   "cell_type": "code",
   "execution_count": 6,
   "id": "afa263ac",
   "metadata": {},
   "outputs": [],
   "source": [
    "pop = pop.reindex(index)\n",
    "# вот это мультииндекс"
   ]
  },
  {
   "cell_type": "code",
   "execution_count": 7,
   "id": "b5c78312",
   "metadata": {},
   "outputs": [
    {
     "data": {
      "text/plain": [
       "c  2000    3387\n",
       "   2010    3725\n",
       "n  2000    1897\n",
       "   2010    1937\n",
       "t  2000    2085\n",
       "   2010    2514\n",
       "dtype: int64"
      ]
     },
     "execution_count": 7,
     "metadata": {},
     "output_type": "execute_result"
    }
   ],
   "source": [
    "pop"
   ]
  },
  {
   "cell_type": "code",
   "execution_count": 8,
   "id": "046d0776",
   "metadata": {},
   "outputs": [
    {
     "data": {
      "text/plain": [
       "c    3725\n",
       "n    1937\n",
       "t    2514\n",
       "dtype: int64"
      ]
     },
     "execution_count": 8,
     "metadata": {},
     "output_type": "execute_result"
    }
   ],
   "source": [
    "# мультииндекс любит срезы:\n",
    "pop[:, 2010]"
   ]
  },
  {
   "cell_type": "markdown",
   "id": "94d8bc97",
   "metadata": {},
   "source": [
    "#### Мультииндекс как доп. измерение:"
   ]
  },
  {
   "cell_type": "code",
   "execution_count": 9,
   "id": "4fd2a98f",
   "metadata": {},
   "outputs": [],
   "source": [
    "# мультииндексный Series м.б. преобразован в обычный DataFrame\n",
    "pop_df = pop.unstack()"
   ]
  },
  {
   "cell_type": "code",
   "execution_count": 10,
   "id": "92d73ea3",
   "metadata": {},
   "outputs": [
    {
     "data": {
      "text/html": [
       "<div>\n",
       "<style scoped>\n",
       "    .dataframe tbody tr th:only-of-type {\n",
       "        vertical-align: middle;\n",
       "    }\n",
       "\n",
       "    .dataframe tbody tr th {\n",
       "        vertical-align: top;\n",
       "    }\n",
       "\n",
       "    .dataframe thead th {\n",
       "        text-align: right;\n",
       "    }\n",
       "</style>\n",
       "<table border=\"1\" class=\"dataframe\">\n",
       "  <thead>\n",
       "    <tr style=\"text-align: right;\">\n",
       "      <th></th>\n",
       "      <th>2000</th>\n",
       "      <th>2010</th>\n",
       "    </tr>\n",
       "  </thead>\n",
       "  <tbody>\n",
       "    <tr>\n",
       "      <th>c</th>\n",
       "      <td>3387</td>\n",
       "      <td>3725</td>\n",
       "    </tr>\n",
       "    <tr>\n",
       "      <th>n</th>\n",
       "      <td>1897</td>\n",
       "      <td>1937</td>\n",
       "    </tr>\n",
       "    <tr>\n",
       "      <th>t</th>\n",
       "      <td>2085</td>\n",
       "      <td>2514</td>\n",
       "    </tr>\n",
       "  </tbody>\n",
       "</table>\n",
       "</div>"
      ],
      "text/plain": [
       "   2000  2010\n",
       "c  3387  3725\n",
       "n  1897  1937\n",
       "t  2085  2514"
      ]
     },
     "execution_count": 10,
     "metadata": {},
     "output_type": "execute_result"
    }
   ],
   "source": [
    "pop_df"
   ]
  },
  {
   "cell_type": "code",
   "execution_count": 11,
   "id": "6e049caf",
   "metadata": {},
   "outputs": [
    {
     "data": {
      "text/plain": [
       "c  2000    3387\n",
       "   2010    3725\n",
       "n  2000    1897\n",
       "   2010    1937\n",
       "t  2000    2085\n",
       "   2010    2514\n",
       "dtype: int64"
      ]
     },
     "execution_count": 11,
     "metadata": {},
     "output_type": "execute_result"
    }
   ],
   "source": [
    "# и наоборот, DataFrame м.б. превращен в мультииндексный Series\n",
    "pop_df.stack()"
   ]
  },
  {
   "cell_type": "code",
   "execution_count": 13,
   "id": "f83910c2",
   "metadata": {},
   "outputs": [
    {
     "data": {
      "text/html": [
       "<div>\n",
       "<style scoped>\n",
       "    .dataframe tbody tr th:only-of-type {\n",
       "        vertical-align: middle;\n",
       "    }\n",
       "\n",
       "    .dataframe tbody tr th {\n",
       "        vertical-align: top;\n",
       "    }\n",
       "\n",
       "    .dataframe thead th {\n",
       "        text-align: right;\n",
       "    }\n",
       "</style>\n",
       "<table border=\"1\" class=\"dataframe\">\n",
       "  <thead>\n",
       "    <tr style=\"text-align: right;\">\n",
       "      <th></th>\n",
       "      <th></th>\n",
       "      <th>total</th>\n",
       "      <th>under18</th>\n",
       "    </tr>\n",
       "  </thead>\n",
       "  <tbody>\n",
       "    <tr>\n",
       "      <th rowspan=\"2\" valign=\"top\">c</th>\n",
       "      <th>2000</th>\n",
       "      <td>3387</td>\n",
       "      <td>926</td>\n",
       "    </tr>\n",
       "    <tr>\n",
       "      <th>2010</th>\n",
       "      <td>3725</td>\n",
       "      <td>928</td>\n",
       "    </tr>\n",
       "    <tr>\n",
       "      <th rowspan=\"2\" valign=\"top\">n</th>\n",
       "      <th>2000</th>\n",
       "      <td>1897</td>\n",
       "      <td>468</td>\n",
       "    </tr>\n",
       "    <tr>\n",
       "      <th>2010</th>\n",
       "      <td>1937</td>\n",
       "      <td>431</td>\n",
       "    </tr>\n",
       "    <tr>\n",
       "      <th rowspan=\"2\" valign=\"top\">t</th>\n",
       "      <th>2000</th>\n",
       "      <td>2085</td>\n",
       "      <td>590</td>\n",
       "    </tr>\n",
       "    <tr>\n",
       "      <th>2010</th>\n",
       "      <td>2514</td>\n",
       "      <td>687</td>\n",
       "    </tr>\n",
       "  </tbody>\n",
       "</table>\n",
       "</div>"
      ],
      "text/plain": [
       "        total  under18\n",
       "c 2000   3387      926\n",
       "  2010   3725      928\n",
       "n 2000   1897      468\n",
       "  2010   1937      431\n",
       "t 2000   2085      590\n",
       "  2010   2514      687"
      ]
     },
     "execution_count": 13,
     "metadata": {},
     "output_type": "execute_result"
    }
   ],
   "source": [
    "# можно добавать доп столбец\n",
    "pop_df = pd.DataFrame({'total': pop,\n",
    "                      'under18': [926, 928,\n",
    "                                 468, 431,\n",
    "                                 590, 687]})\n",
    "pop_df"
   ]
  },
  {
   "cell_type": "code",
   "execution_count": 14,
   "id": "296a9b35",
   "metadata": {},
   "outputs": [
    {
     "data": {
      "text/plain": [
       "c  2000    0.273398\n",
       "   2010    0.249128\n",
       "n  2000    0.246705\n",
       "   2010    0.222509\n",
       "t  2000    0.282974\n",
       "   2010    0.273270\n",
       "dtype: float64"
      ]
     },
     "execution_count": 14,
     "metadata": {},
     "output_type": "execute_result"
    }
   ],
   "source": [
    "f_u18 = pop_df['under18'] / pop_df['total']\n",
    "f_u18\n",
    "# сакой способ позволяет легко манипулировать многомерными данными"
   ]
  },
  {
   "cell_type": "code",
   "execution_count": 15,
   "id": "1643ed54",
   "metadata": {},
   "outputs": [
    {
     "data": {
      "text/html": [
       "<div>\n",
       "<style scoped>\n",
       "    .dataframe tbody tr th:only-of-type {\n",
       "        vertical-align: middle;\n",
       "    }\n",
       "\n",
       "    .dataframe tbody tr th {\n",
       "        vertical-align: top;\n",
       "    }\n",
       "\n",
       "    .dataframe thead th {\n",
       "        text-align: right;\n",
       "    }\n",
       "</style>\n",
       "<table border=\"1\" class=\"dataframe\">\n",
       "  <thead>\n",
       "    <tr style=\"text-align: right;\">\n",
       "      <th></th>\n",
       "      <th>2000</th>\n",
       "      <th>2010</th>\n",
       "    </tr>\n",
       "  </thead>\n",
       "  <tbody>\n",
       "    <tr>\n",
       "      <th>c</th>\n",
       "      <td>0.273398</td>\n",
       "      <td>0.249128</td>\n",
       "    </tr>\n",
       "    <tr>\n",
       "      <th>n</th>\n",
       "      <td>0.246705</td>\n",
       "      <td>0.222509</td>\n",
       "    </tr>\n",
       "    <tr>\n",
       "      <th>t</th>\n",
       "      <td>0.282974</td>\n",
       "      <td>0.273270</td>\n",
       "    </tr>\n",
       "  </tbody>\n",
       "</table>\n",
       "</div>"
      ],
      "text/plain": [
       "       2000      2010\n",
       "c  0.273398  0.249128\n",
       "n  0.246705  0.222509\n",
       "t  0.282974  0.273270"
      ]
     },
     "execution_count": 15,
     "metadata": {},
     "output_type": "execute_result"
    }
   ],
   "source": [
    "f_u18.unstack()"
   ]
  },
  {
   "cell_type": "markdown",
   "id": "769f3145",
   "metadata": {},
   "source": [
    "### Методы создания мультииндексов:\n",
    "    Наиболее простой метод создания мультииндекса - передать в конструктор список из двух и более индексных массивов (стр. 168)"
   ]
  },
  {
   "cell_type": "code",
   "execution_count": 16,
   "id": "82ff733c",
   "metadata": {},
   "outputs": [
    {
     "data": {
      "text/html": [
       "<div>\n",
       "<style scoped>\n",
       "    .dataframe tbody tr th:only-of-type {\n",
       "        vertical-align: middle;\n",
       "    }\n",
       "\n",
       "    .dataframe tbody tr th {\n",
       "        vertical-align: top;\n",
       "    }\n",
       "\n",
       "    .dataframe thead th {\n",
       "        text-align: right;\n",
       "    }\n",
       "</style>\n",
       "<table border=\"1\" class=\"dataframe\">\n",
       "  <thead>\n",
       "    <tr style=\"text-align: right;\">\n",
       "      <th></th>\n",
       "      <th></th>\n",
       "      <th>data1</th>\n",
       "      <th>data2</th>\n",
       "    </tr>\n",
       "  </thead>\n",
       "  <tbody>\n",
       "    <tr>\n",
       "      <th rowspan=\"2\" valign=\"top\">a</th>\n",
       "      <th>1</th>\n",
       "      <td>0.293791</td>\n",
       "      <td>0.134242</td>\n",
       "    </tr>\n",
       "    <tr>\n",
       "      <th>2</th>\n",
       "      <td>0.543200</td>\n",
       "      <td>0.989282</td>\n",
       "    </tr>\n",
       "    <tr>\n",
       "      <th rowspan=\"2\" valign=\"top\">b</th>\n",
       "      <th>1</th>\n",
       "      <td>0.357041</td>\n",
       "      <td>0.652495</td>\n",
       "    </tr>\n",
       "    <tr>\n",
       "      <th>2</th>\n",
       "      <td>0.770514</td>\n",
       "      <td>0.093139</td>\n",
       "    </tr>\n",
       "  </tbody>\n",
       "</table>\n",
       "</div>"
      ],
      "text/plain": [
       "        data1     data2\n",
       "a 1  0.293791  0.134242\n",
       "  2  0.543200  0.989282\n",
       "b 1  0.357041  0.652495\n",
       "  2  0.770514  0.093139"
      ]
     },
     "execution_count": 16,
     "metadata": {},
     "output_type": "execute_result"
    }
   ],
   "source": [
    "df = pd.DataFrame(np.random.rand(4,2),\n",
    "                 index=[['a', 'a', 'b', 'b'],\n",
    "                         [1, 2, 1, 2]],\n",
    "                 columns=['data1', 'data2'])\n",
    "df"
   ]
  },
  {
   "cell_type": "code",
   "execution_count": 17,
   "id": "aa556d00",
   "metadata": {},
   "outputs": [],
   "source": [
    "# Если передавать словарь, с кортежами в качестве ключей Pandas автоматически распознает мультииндекс:\n",
    "data = {\n",
    "    ('c', 2000): 3387,\n",
    "    ('c', 2010): 3725,\n",
    "    ('n', 2000): 2085,\n",
    "    ('n', 2010): 2514,\n",
    "    ('t', 2000): 1897,\n",
    "    ('t', 2010): 1937,\n",
    "}"
   ]
  },
  {
   "cell_type": "code",
   "execution_count": 18,
   "id": "7e50af65",
   "metadata": {},
   "outputs": [
    {
     "data": {
      "text/plain": [
       "c  2000    3387\n",
       "   2010    3725\n",
       "n  2000    2085\n",
       "   2010    2514\n",
       "t  2000    1897\n",
       "   2010    1937\n",
       "dtype: int64"
      ]
     },
     "execution_count": 18,
     "metadata": {},
     "output_type": "execute_result"
    }
   ],
   "source": [
    "pd.Series(data)"
   ]
  },
  {
   "cell_type": "markdown",
   "id": "98a83933",
   "metadata": {},
   "source": [
    "### Явные конструкторы для MultiIndex"
   ]
  },
  {
   "cell_type": "code",
   "execution_count": null,
   "id": "8c5b0f1d",
   "metadata": {},
   "outputs": [],
   "source": []
  },
  {
   "cell_type": "code",
   "execution_count": null,
   "id": "bc4ff423",
   "metadata": {},
   "outputs": [],
   "source": []
  },
  {
   "cell_type": "code",
   "execution_count": null,
   "id": "e26116be",
   "metadata": {},
   "outputs": [],
   "source": []
  },
  {
   "cell_type": "code",
   "execution_count": null,
   "id": "5123e591",
   "metadata": {},
   "outputs": [],
   "source": []
  },
  {
   "cell_type": "code",
   "execution_count": null,
   "id": "b4a29384",
   "metadata": {},
   "outputs": [],
   "source": []
  },
  {
   "cell_type": "code",
   "execution_count": null,
   "id": "77a5f7b2",
   "metadata": {},
   "outputs": [],
   "source": []
  }
 ],
 "metadata": {
  "kernelspec": {
   "display_name": "Python 3 (ipykernel)",
   "language": "python",
   "name": "python3"
  },
  "language_info": {
   "codemirror_mode": {
    "name": "ipython",
    "version": 3
   },
   "file_extension": ".py",
   "mimetype": "text/x-python",
   "name": "python",
   "nbconvert_exporter": "python",
   "pygments_lexer": "ipython3",
   "version": "3.9.7"
  }
 },
 "nbformat": 4,
 "nbformat_minor": 5
}
