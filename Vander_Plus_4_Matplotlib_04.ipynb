{
 "cells": [
  {
   "cell_type": "markdown",
   "id": "a5cff816",
   "metadata": {},
   "source": [
    "# Визуализация погрешностей\n",
    "ИМХО: ничто не сравнится с originlab в работе с погрешностями\n",
    "ПС. сейчас узнаем"
   ]
  },
  {
   "cell_type": "markdown",
   "id": "b810e3c7",
   "metadata": {},
   "source": [
    "## Простые планки погрешностей"
   ]
  },
  {
   "cell_type": "code",
   "execution_count": 1,
   "id": "56b812cc",
   "metadata": {},
   "outputs": [],
   "source": [
    "import matplotlib.pyplot as plt\n",
    "plt.style.use('seaborn-whitegrid')"
   ]
  },
  {
   "cell_type": "code",
   "execution_count": 2,
   "id": "fcc63624",
   "metadata": {},
   "outputs": [],
   "source": [
    "import numpy as np"
   ]
  },
  {
   "cell_type": "code",
   "execution_count": 4,
   "id": "8c437a45",
   "metadata": {},
   "outputs": [
    {
     "data": {
      "text/plain": [
       "array([ 0.        ,  0.20408163,  0.40816327,  0.6122449 ,  0.81632653,\n",
       "        1.02040816,  1.2244898 ,  1.42857143,  1.63265306,  1.83673469,\n",
       "        2.04081633,  2.24489796,  2.44897959,  2.65306122,  2.85714286,\n",
       "        3.06122449,  3.26530612,  3.46938776,  3.67346939,  3.87755102,\n",
       "        4.08163265,  4.28571429,  4.48979592,  4.69387755,  4.89795918,\n",
       "        5.10204082,  5.30612245,  5.51020408,  5.71428571,  5.91836735,\n",
       "        6.12244898,  6.32653061,  6.53061224,  6.73469388,  6.93877551,\n",
       "        7.14285714,  7.34693878,  7.55102041,  7.75510204,  7.95918367,\n",
       "        8.16326531,  8.36734694,  8.57142857,  8.7755102 ,  8.97959184,\n",
       "        9.18367347,  9.3877551 ,  9.59183673,  9.79591837, 10.        ])"
      ]
     },
     "execution_count": 4,
     "metadata": {},
     "output_type": "execute_result"
    }
   ],
   "source": [
    "x = np.linspace(0, 10, 50)\n",
    "x"
   ]
  },
  {
   "cell_type": "code",
   "execution_count": 5,
   "id": "36e7393a",
   "metadata": {
    "scrolled": false
   },
   "outputs": [
    {
     "data": {
      "text/plain": [
       "<ErrorbarContainer object of 3 artists>"
      ]
     },
     "execution_count": 5,
     "metadata": {},
     "output_type": "execute_result"
    },
    {
     "data": {
      "image/png": "[encoded data removed]",
      "text/plain": [
       "<Figure size 432x288 with 1 Axes>"
      ]
     },
     "metadata": {},
     "output_type": "display_data"
    }
   ],
   "source": [
    "dy = 0.8\n",
    "y = np.sin(x) + dy * np.random.rand(50)\n",
    "plt.errorbar(x, y, yerr=dy, fmt='.k')"
   ]
  },
  {
   "cell_type": "code",
   "execution_count": 7,
   "id": "4e535a66",
   "metadata": {},
   "outputs": [],
   "source": [
    "# plt.errorbar?\n",
    "\n",
    "# plt.errorbar(\n",
    "#     x,\n",
    "#     y,\n",
    "#     yerr=None,\n",
    "#     xerr=None,\n",
    "#     fmt='',\n",
    "#     ecolor=None,\n",
    "#     elinewidth=None,\n",
    "#     capsize=None,\n",
    "#     barsabove=False,\n",
    "#     lolims=False,\n",
    "#     uplims=False,\n",
    "#     xlolims=False,\n",
    "#     xuplims=False,\n",
    "#     errorevery=1,\n",
    "#     capthick=None,\n",
    "#     *,\n",
    "#     data=None,\n",
    "#     **kwargs,\n",
    "# )\n",
    "\n",
    "# Parameters\n",
    "# ----------\n",
    "# x, y : float or array-like\n",
    "#     The data positions.\n",
    "\n",
    "# xerr, yerr : float or array-like, shape(N,) or shape(2, N), optional\n",
    "#     The errorbar sizes:\n",
    "\n",
    "#     - scalar: Symmetric +/- values for all data points.\n",
    "#     - shape(N,): Symmetric +/-values for each data point.\n",
    "#     - shape(2, N): Separate - and + values for each bar. First row\n",
    "#       contains the lower errors, the second row contains the upper\n",
    "#       errors.\n",
    "#     - *None*: No errorbar.\n",
    "\n",
    "#     Note that all error arrays should have *positive* values.\n",
    "\n",
    "#     See :doc:`/gallery/statistics/errorbar_features`\n",
    "#     for an example on the usage of ``xerr`` and ``yerr``.\n",
    "\n",
    "# fmt : str, default: ''\n",
    "#     The format for the data points / data lines. See `.plot` for\n",
    "#     details.\n",
    "\n",
    "#     Use 'none' (case insensitive) to plot errorbars without any data\n",
    "#     markers.\n",
    "\n",
    "# ecolor : color, default: None\n",
    "#     The color of the errorbar lines.  If None, use the color of the\n",
    "#     line connecting the markers.\n",
    "\n",
    "# elinewidth : float, default: None\n",
    "#     The linewidth of the errorbar lines. If None, the linewidth of\n",
    "#     the current style is used.\n",
    "\n",
    "# capsize : float, default: :rc:`errorbar.capsize`\n",
    "#     The length of the error bar caps in points.\n",
    "\n",
    "# capthick : float, default: None\n",
    "#     An alias to the keyword argument *markeredgewidth* (a.k.a. *mew*).\n",
    "#     This setting is a more sensible name for the property that\n",
    "#     controls the thickness of the error bar cap in points. For\n",
    "#     backwards compatibility, if *mew* or *markeredgewidth* are given,\n",
    "#     then they will over-ride *capthick*. This may change in future\n",
    "#     releases.\n",
    "\n",
    "# barsabove : bool, default: False\n",
    "#     If True, will plot the errorbars above the plot\n",
    "#     symbols. Default is below.\n",
    "\n",
    "# lolims, uplims, xlolims, xuplims : bool, default: False\n",
    "#     These arguments can be used to indicate that a value gives only\n",
    "#     upper/lower limits.  In that case a caret symbol is used to\n",
    "#     indicate this. *lims*-arguments may be scalars, or array-likes of\n",
    "#     the same length as *xerr* and *yerr*.  To use limits with inverted\n",
    "#     axes, `~.Axes.set_xlim` or `~.Axes.set_ylim` must be called before\n",
    "#     :meth:`errorbar`.  Note the tricky parameter names: setting e.g.\n",
    "#     *lolims* to True means that the y-value is a *lower* limit of the\n",
    "#     True value, so, only an *upward*-pointing arrow will be drawn!\n",
    "\n",
    "# errorevery : int or (int, int), default: 1\n",
    "#     draws error bars on a subset of the data. *errorevery* =N draws\n",
    "#     error bars on the points (x[::N], y[::N]).\n",
    "#     *errorevery* =(start, N) draws error bars on the points\n",
    "#     (x[start::N], y[start::N]). e.g. errorevery=(6, 3)\n",
    "#     adds error bars to the data at (x[6], x[9], x[12], x[15], ...).\n",
    "#     Used to avoid overlapping error bars when two series share x-axis\n",
    "#     values."
   ]
  },
  {
   "cell_type": "code",
   "execution_count": 8,
   "id": "0fbf27e8",
   "metadata": {},
   "outputs": [
    {
     "data": {
      "text/plain": [
       "<ErrorbarContainer object of 3 artists>"
      ]
     },
     "execution_count": 8,
     "metadata": {},
     "output_type": "execute_result"
    },
    {
     "data": {
      "image/png": "[encoded data removed]",
      "text/plain": [
       "<Figure size 432x288 with 1 Axes>"
      ]
     },
     "metadata": {},
     "output_type": "display_data"
    }
   ],
   "source": [
    "plt.errorbar(x, y, yerr=dy, fmt='o', color='black', ecolor='lightgrey', elinewidth=3, capsize=0)"
   ]
  },
  {
   "cell_type": "code",
   "execution_count": 13,
   "id": "4967346c",
   "metadata": {},
   "outputs": [
    {
     "data": {
      "text/plain": [
       "<ErrorbarContainer object of 3 artists>"
      ]
     },
     "execution_count": 13,
     "metadata": {},
     "output_type": "execute_result"
    },
    {
     "data": {
      "image/png": "[encoded data removed]",
      "text/plain": [
       "<Figure size 432x288 with 1 Axes>"
      ]
     },
     "metadata": {},
     "output_type": "display_data"
    }
   ],
   "source": [
    "plt.errorbar(x, y, yerr=dy, fmt='o', color='black', ecolor='lightgrey', elinewidth=2, capsize=10)"
   ]
  },
  {
   "cell_type": "markdown",
   "id": "f3cbc6a0",
   "metadata": {},
   "source": [
    "## Непрерывные погрешности\n",
    "Для случаев, когда надо отображать планки погрешностей для непрерывных велични"
   ]
  },
  {
   "cell_type": "code",
   "execution_count": 15,
   "id": "04a67471",
   "metadata": {},
   "outputs": [],
   "source": [
    "from sklearn.gaussian_process import GaussianProcessRegressor"
   ]
  },
  {
   "cell_type": "code",
   "execution_count": 16,
   "id": "1ab3cd18",
   "metadata": {},
   "outputs": [],
   "source": [
    "# описываем модель, и отрисовываем некоторые данные\n",
    "model = lambda x: x * np.sin(x)\n",
    "xdata = np.array([1,3,5,6,8])\n",
    "ydata = model(xdata)"
   ]
  },
  {
   "cell_type": "code",
   "execution_count": 17,
   "id": "64ac4ee1",
   "metadata": {},
   "outputs": [
    {
     "data": {
      "text/plain": [
       "array([ 0.84147098,  0.42336002, -4.79462137, -1.67649299,  7.91486597])"
      ]
     },
     "execution_count": 17,
     "metadata": {},
     "output_type": "execute_result"
    }
   ],
   "source": [
    "ydata"
   ]
  },
  {
   "cell_type": "code",
   "execution_count": 28,
   "id": "7df84d0c",
   "metadata": {},
   "outputs": [
    {
     "data": {
      "text/plain": [
       "array([1, 3, 5, 6, 8])"
      ]
     },
     "execution_count": 28,
     "metadata": {},
     "output_type": "execute_result"
    }
   ],
   "source": [
    "xdata"
   ]
  },
  {
   "cell_type": "code",
   "execution_count": 40,
   "id": "e23eb559",
   "metadata": {},
   "outputs": [],
   "source": [
    "# выполним подгонку Гауссова процесса\n",
    "from sklearn.gaussian_process.kernels import DotProduct, WhiteKernel\n",
    "kernel = DotProduct() + WhiteKernel()\n",
    "gp = GaussianProcessRegressor(kernel=kernel, random_state=0).fit(xdata[:, np.newaxis], ydata)"
   ]
  },
  {
   "cell_type": "code",
   "execution_count": 44,
   "id": "3ac853e9",
   "metadata": {},
   "outputs": [],
   "source": [
    "xfit = np.linspace(0, 10, 1000)\n",
    "yfit = gp.predict(xfit[:, np.newaxis])\n"
   ]
  },
  {
   "cell_type": "code",
   "execution_count": 45,
   "id": "f68b4b1a",
   "metadata": {},
   "outputs": [
    {
     "data": {
      "text/plain": [
       "(0.0, 10.0)"
      ]
     },
     "execution_count": 45,
     "metadata": {},
     "output_type": "execute_result"
    },
    {
     "data": {
      "image/png": "[encoded data removed]",
      "text/plain": [
       "<Figure size 432x288 with 1 Axes>"
      ]
     },
     "metadata": {},
     "output_type": "display_data"
    }
   ],
   "source": [
    "plt.plot(xdata, ydata, 'or')\n",
    "plt.plot(xfit, yfit, '-', color = 'grey')\n",
    "plt.fill_between(xfit, yfit, color = 'gray', alpha = 0.2)\n",
    "plt.xlim(0, 10)\n",
    "# хрень"
   ]
  },
  {
   "cell_type": "markdown",
   "id": "5f07182a",
   "metadata": {},
   "source": [
    "###### Короче, для закрашивания областей м/у графиками ``plt.fill_between`` и  ``plt.fill``\n",
    "Полубому непрерывные погрешности уже встоены в библиотеку\n",
    "Так же это реализовано в пакете ``Seaborn``"
   ]
  },
  {
   "cell_type": "code",
   "execution_count": null,
   "id": "bad10ea5",
   "metadata": {},
   "outputs": [],
   "source": []
  },
  {
   "cell_type": "code",
   "execution_count": null,
   "id": "2ad15098",
   "metadata": {},
   "outputs": [],
   "source": []
  },
  {
   "cell_type": "code",
   "execution_count": null,
   "id": "8771c499",
   "metadata": {},
   "outputs": [],
   "source": []
  },
  {
   "cell_type": "code",
   "execution_count": null,
   "id": "c6878cfc",
   "metadata": {},
   "outputs": [],
   "source": []
  },
  {
   "cell_type": "code",
   "execution_count": null,
   "id": "1b26c1b0",
   "metadata": {},
   "outputs": [],
   "source": []
  },
  {
   "cell_type": "code",
   "execution_count": null,
   "id": "8ac1e915",
   "metadata": {},
   "outputs": [],
   "source": []
  },
  {
   "cell_type": "code",
   "execution_count": null,
   "id": "d6b20f29",
   "metadata": {},
   "outputs": [],
   "source": []
  },
  {
   "cell_type": "code",
   "execution_count": null,
   "id": "98ce82ce",
   "metadata": {},
   "outputs": [],
   "source": []
  },
  {
   "cell_type": "code",
   "execution_count": null,
   "id": "a96ea159",
   "metadata": {},
   "outputs": [],
   "source": []
  },
  {
   "cell_type": "code",
   "execution_count": null,
   "id": "ddd7b95a",
   "metadata": {},
   "outputs": [],
   "source": []
  },
  {
   "cell_type": "code",
   "execution_count": null,
   "id": "d122d517",
   "metadata": {},
   "outputs": [],
   "source": []
  }
 ],
 "metadata": {
  "kernelspec": {
   "display_name": "Python 3 (ipykernel)",
   "language": "python",
   "name": "python3"
  },
  "language_info": {
   "codemirror_mode": {
    "name": "ipython",
    "version": 3
   },
   "file_extension": ".py",
   "mimetype": "text/x-python",
   "name": "python",
   "nbconvert_exporter": "python",
   "pygments_lexer": "ipython3",
   "version": "3.9.7"
  }
 },
 "nbformat": 4,
 "nbformat_minor": 5
}
