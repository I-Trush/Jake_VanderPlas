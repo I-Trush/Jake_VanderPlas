{
 "cells": [
  {
   "cell_type": "markdown",
   "id": "7db56540",
   "metadata": {},
   "source": [
    "## Сравнения, маски и булева логика. Маскирование (masking)."
   ]
  },
  {
   "cell_type": "code",
   "execution_count": null,
   "id": "07c17c51",
   "metadata": {},
   "outputs": [],
   "source": [
    "# использование булевых масок удобно для извлечения, модификации, подсчета и др. манипуляций со значениями \n",
    "# по какому-либо критерию. Например подсчета всех значения выше или ниже порога, или удаления всех аномальных значений."
   ]
  },
  {
   "cell_type": "markdown",
   "id": "e16b2212",
   "metadata": {},
   "source": [
    "### Подсчет кол-ва дождливых дней:"
   ]
  },
  {
   "cell_type": "code",
   "execution_count": 1,
   "id": "1f593f11",
   "metadata": {},
   "outputs": [],
   "source": [
    "import numpy as np\n",
    "import pandas as pd"
   ]
  },
  {
   "cell_type": "code",
   "execution_count": 4,
   "id": "735eb5fe",
   "metadata": {},
   "outputs": [],
   "source": [
    "rainfall = pd.read_csv('data/Seattle2014.csv')['PRCP'].values"
   ]
  },
  {
   "cell_type": "code",
   "execution_count": 5,
   "id": "367fac63",
   "metadata": {},
   "outputs": [
    {
     "data": {
      "text/plain": [
       "array([  0,  41,  15,   0,   0,   3, 122,  97,  58,  43, 213,  15,   0,\n",
       "         0,   0,   0,   0,   0,   0,   0,   0,   5,   0,   0,   0,   0,\n",
       "         0,  89, 216,   0,  23,  20,   0,   0,   0,   0,   0,   0,  51,\n",
       "         5, 183, 170,  46,  18,  94, 117, 264, 145, 152,  10,  30,  28,\n",
       "        25,  61, 130,   3,   0,   0,   0,   5, 191, 107, 165, 467,  30,\n",
       "         0, 323,  43, 188,   0,   0,   5,  69,  81, 277,   3,   0,   5,\n",
       "         0,   0,   0,   0,   0,  41,  36,   3, 221, 140,   0,   0,   0,\n",
       "         0,  25,   0,  46,   0,   0,  46,   0,   0,   0,   0,   0,   0,\n",
       "         5, 109, 185,   0, 137,   0,  51, 142,  89, 124,   0,  33,  69,\n",
       "         0,   0,   0,   0,   0, 333, 160,  51,   0,   0, 137,  20,   5,\n",
       "         0,   0,   0,   0,   0,   0,   0,   0,   0,   0,   0,   0,  38,\n",
       "         0,  56,   0,   0,   0,   0,   0,   0,   0,   0,   0,   0,   0,\n",
       "         0,   0,   0,   0,   0,   0,  18,  64,   0,   5,  36,  13,   0,\n",
       "         8,   3,   0,   0,   0,   0,   0,   0,  18,  23,   0,   0,   0,\n",
       "         0,   0,   0,   0,   0,   0,   0,   0,   0,   0,   0,   0,   0,\n",
       "         0,   0,   0,   0,   0,   0,   0,   3, 193,   0,   0,   0,   0,\n",
       "         0,   0,   0,   0,   0,   5,   0,   0,   0,   0,   0,   0,   0,\n",
       "         0,   5, 127, 216,   0,  10,   0,   0,   0,   0,   0,   0,   0,\n",
       "         0,   0,   0,   0,   0,   0,   0,  84,  13,   0,  30,   0,   0,\n",
       "         0,   0,   0,   0,   0,   0,   0,   0,   0,   0,   0,   0,   5,\n",
       "         3,   0,   0,   0,   3, 183, 203,  43,  89,   0,   0,   8,   0,\n",
       "         0,   0,   0,   0,   0,   0,   0,   0,   0,   3,  74,   0,  76,\n",
       "        71,  86,   0,  33, 150,   0, 117,  10, 320,  94,  41,  61,  15,\n",
       "         8, 127,   5, 254, 170,   0,  18, 109,  41,  48,  41,   0,   0,\n",
       "        51,   0,   0,   0,   0,   0,   0,   0,   0,   0,   0,  36, 152,\n",
       "         5, 119,  13, 183,   3,  33, 343,  36,   0,   0,   0,   0,   8,\n",
       "        30,  74,   0,  91,  99, 130,  69,   0,   0,   0,   0,   0,  28,\n",
       "       130,  30, 196,   0,   0, 206,  53,   0,   0,  33,  41,   0,   0,\n",
       "         0], dtype=int64)"
      ]
     },
     "execution_count": 5,
     "metadata": {},
     "output_type": "execute_result"
    }
   ],
   "source": [
    "rainfall"
   ]
  },
  {
   "cell_type": "code",
   "execution_count": 6,
   "id": "ea76145a",
   "metadata": {},
   "outputs": [
    {
     "data": {
      "text/plain": [
       "365"
      ]
     },
     "execution_count": 6,
     "metadata": {},
     "output_type": "execute_result"
    }
   ],
   "source": [
    "rainfall.size"
   ]
  },
  {
   "cell_type": "code",
   "execution_count": 7,
   "id": "2a8405d1",
   "metadata": {},
   "outputs": [],
   "source": [
    "inches = rainfall/254  # 1/10mm => inches"
   ]
  },
  {
   "cell_type": "code",
   "execution_count": 9,
   "id": "f7991516",
   "metadata": {},
   "outputs": [
    {
     "data": {
      "text/plain": [
       "(365,)"
      ]
     },
     "execution_count": 9,
     "metadata": {},
     "output_type": "execute_result"
    }
   ],
   "source": [
    "inches.shape"
   ]
  },
  {
   "cell_type": "code",
   "execution_count": 10,
   "id": "8f05b001",
   "metadata": {},
   "outputs": [],
   "source": [
    "%matplotlib inline\n",
    "import matplotlib.pyplot as plt\n",
    "import seaborn\n",
    "seaborn.set()"
   ]
  },
  {
   "cell_type": "code",
   "execution_count": 11,
   "id": "a124f133",
   "metadata": {},
   "outputs": [
    {
     "data": {
      "text/plain": [
       "(array([245.,  14.,  13.,  17.,   8.,   6.,   5.,   6.,   4.,   3.,   7.,\n",
       "          6.,   3.,   3.,   3.,   4.,   4.,   2.,   4.,   0.,   0.,   1.,\n",
       "          1.,   1.,   0.,   0.,   0.,   2.,   1.,   1.,   0.,   0.,   0.,\n",
       "          0.,   0.,   0.,   0.,   0.,   0.,   1.]),\n",
       " array([0.        , 0.04596457, 0.09192913, 0.1378937 , 0.18385827,\n",
       "        0.22982283, 0.2757874 , 0.32175197, 0.36771654, 0.4136811 ,\n",
       "        0.45964567, 0.50561024, 0.5515748 , 0.59753937, 0.64350394,\n",
       "        0.6894685 , 0.73543307, 0.78139764, 0.8273622 , 0.87332677,\n",
       "        0.91929134, 0.96525591, 1.01122047, 1.05718504, 1.10314961,\n",
       "        1.14911417, 1.19507874, 1.24104331, 1.28700787, 1.33297244,\n",
       "        1.37893701, 1.42490157, 1.47086614, 1.51683071, 1.56279528,\n",
       "        1.60875984, 1.65472441, 1.70068898, 1.74665354, 1.79261811,\n",
       "        1.83858268]),\n",
       " <BarContainer object of 40 artists>)"
      ]
     },
     "execution_count": 11,
     "metadata": {},
     "output_type": "execute_result"
    },
    {
     "data": {
      "image/png": "[encoded data removed]",
      "text/plain": [
       "<Figure size 432x288 with 1 Axes>"
      ]
     },
     "metadata": {},
     "output_type": "display_data"
    }
   ],
   "source": [
    "plt.hist(inches, 40)"
   ]
  },
  {
   "cell_type": "markdown",
   "id": "8ebb7eb9",
   "metadata": {},
   "source": [
    "### Операторы сравнения как универсальные ф-ии"
   ]
  },
  {
   "cell_type": "code",
   "execution_count": 12,
   "id": "74afbea1",
   "metadata": {},
   "outputs": [],
   "source": [
    "x = np.arange(1,10).reshape(3,3)"
   ]
  },
  {
   "cell_type": "code",
   "execution_count": 13,
   "id": "77944935",
   "metadata": {},
   "outputs": [
    {
     "data": {
      "text/plain": [
       "array([[1, 2, 3],\n",
       "       [4, 5, 6],\n",
       "       [7, 8, 9]])"
      ]
     },
     "execution_count": 13,
     "metadata": {},
     "output_type": "execute_result"
    }
   ],
   "source": [
    "x"
   ]
  },
  {
   "cell_type": "code",
   "execution_count": 14,
   "id": "850bdb58",
   "metadata": {},
   "outputs": [
    {
     "data": {
      "text/plain": [
       "array([[ True,  True, False],\n",
       "       [False, False, False],\n",
       "       [False, False, False]])"
      ]
     },
     "execution_count": 14,
     "metadata": {},
     "output_type": "execute_result"
    }
   ],
   "source": [
    "x < 3"
   ]
  },
  {
   "cell_type": "code",
   "execution_count": 15,
   "id": "0a5aeacf",
   "metadata": {},
   "outputs": [
    {
     "data": {
      "text/plain": [
       "array([[ True,  True,  True],\n",
       "       [False, False, False],\n",
       "       [False, False, False]])"
      ]
     },
     "execution_count": 15,
     "metadata": {},
     "output_type": "execute_result"
    }
   ],
   "source": [
    "x <= 3"
   ]
  },
  {
   "cell_type": "code",
   "execution_count": 16,
   "id": "91b912bf",
   "metadata": {},
   "outputs": [
    {
     "data": {
      "text/plain": [
       "array([[False, False, False],\n",
       "       [ True,  True,  True],\n",
       "       [ True,  True,  True]])"
      ]
     },
     "execution_count": 16,
     "metadata": {},
     "output_type": "execute_result"
    }
   ],
   "source": [
    "x > 3"
   ]
  },
  {
   "cell_type": "code",
   "execution_count": 17,
   "id": "51f644b8",
   "metadata": {},
   "outputs": [
    {
     "data": {
      "text/plain": [
       "array([[False, False,  True],\n",
       "       [ True,  True,  True],\n",
       "       [ True,  True,  True]])"
      ]
     },
     "execution_count": 17,
     "metadata": {},
     "output_type": "execute_result"
    }
   ],
   "source": [
    "x >= 3"
   ]
  },
  {
   "cell_type": "code",
   "execution_count": 18,
   "id": "b4aaed94",
   "metadata": {},
   "outputs": [
    {
     "data": {
      "text/plain": [
       "array([[ True,  True, False],\n",
       "       [ True,  True,  True],\n",
       "       [ True,  True,  True]])"
      ]
     },
     "execution_count": 18,
     "metadata": {},
     "output_type": "execute_result"
    }
   ],
   "source": [
    "x != 3"
   ]
  },
  {
   "cell_type": "code",
   "execution_count": 19,
   "id": "17d3eb2b",
   "metadata": {},
   "outputs": [
    {
     "data": {
      "text/plain": [
       "array([[False, False,  True],\n",
       "       [False, False, False],\n",
       "       [False, False, False]])"
      ]
     },
     "execution_count": 19,
     "metadata": {},
     "output_type": "execute_result"
    }
   ],
   "source": [
    "x == 3"
   ]
  },
  {
   "cell_type": "code",
   "execution_count": 20,
   "id": "c6239476",
   "metadata": {},
   "outputs": [
    {
     "data": {
      "text/plain": [
       "array([[False,  True, False],\n",
       "       [False, False, False],\n",
       "       [False, False, False]])"
      ]
     },
     "execution_count": 20,
     "metadata": {},
     "output_type": "execute_result"
    }
   ],
   "source": [
    "(2 * x) == (x**2)"
   ]
  },
  {
   "cell_type": "code",
   "execution_count": null,
   "id": "0bc7aad4",
   "metadata": {},
   "outputs": [],
   "source": [
    "# все операторы сравнения вызывают соответствующие операции (методы) для массивов NumPy:"
   ]
  },
  {
   "cell_type": "code",
   "execution_count": null,
   "id": "2ad17b87",
   "metadata": {},
   "outputs": [],
   "source": [
    "== np.equal\n",
    "!= np.not_equal\n",
    "<  np.less\n",
    "<= np.less_equal\n",
    ">  np.greater\n",
    ">= np.greater_equal\n",
    "# стр. 101\n",
    "# результатом работы этих операторов всегда будет булев массив"
   ]
  },
  {
   "cell_type": "markdown",
   "id": "c0a63607",
   "metadata": {},
   "source": [
    "### Работа с булевыми массивами:"
   ]
  },
  {
   "cell_type": "code",
   "execution_count": 21,
   "id": "66cbae29",
   "metadata": {},
   "outputs": [
    {
     "data": {
      "text/plain": [
       "array([[5, 0, 3, 3],\n",
       "       [7, 9, 3, 5],\n",
       "       [2, 4, 7, 6]])"
      ]
     },
     "execution_count": 21,
     "metadata": {},
     "output_type": "execute_result"
    }
   ],
   "source": [
    "rng = np.random.RandomState(0) # это типа np.random.seed(0) установка счетчика в ноль\n",
    "x = rng.randint(10, size=(3,4))\n",
    "x"
   ]
  },
  {
   "cell_type": "markdown",
   "id": "371bb583",
   "metadata": {},
   "source": [
    "#### Подсчет кол-ва элементов"
   ]
  },
  {
   "cell_type": "code",
   "execution_count": 23,
   "id": "2c646645",
   "metadata": {},
   "outputs": [
    {
     "data": {
      "text/plain": [
       "8"
      ]
     },
     "execution_count": 23,
     "metadata": {},
     "output_type": "execute_result"
    }
   ],
   "source": [
    "np.count_nonzero(x < 6)"
   ]
  },
  {
   "cell_type": "code",
   "execution_count": 24,
   "id": "9109b89f",
   "metadata": {},
   "outputs": [
    {
     "data": {
      "text/plain": [
       "8"
      ]
     },
     "execution_count": 24,
     "metadata": {},
     "output_type": "execute_result"
    }
   ],
   "source": [
    "np.sum(x < 6)  # поскольку True = 1, False = 0"
   ]
  },
  {
   "cell_type": "code",
   "execution_count": 25,
   "id": "db66ab7c",
   "metadata": {},
   "outputs": [
    {
     "data": {
      "text/plain": [
       "array([4, 2, 2])"
      ]
     },
     "execution_count": 25,
     "metadata": {},
     "output_type": "execute_result"
    }
   ],
   "source": [
    "np.sum(x < 6, axis=1) # по каждой строке"
   ]
  },
  {
   "cell_type": "code",
   "execution_count": 26,
   "id": "6d70c86c",
   "metadata": {},
   "outputs": [
    {
     "data": {
      "text/plain": [
       "True"
      ]
     },
     "execution_count": 26,
     "metadata": {},
     "output_type": "execute_result"
    }
   ],
   "source": [
    "np.any(x > 8)  # существует ли хоть одно значение > 8"
   ]
  },
  {
   "cell_type": "code",
   "execution_count": 27,
   "id": "8d2a60b6",
   "metadata": {},
   "outputs": [
    {
     "data": {
      "text/plain": [
       "False"
      ]
     },
     "execution_count": 27,
     "metadata": {},
     "output_type": "execute_result"
    }
   ],
   "source": [
    "np.any(x < 0)"
   ]
  },
  {
   "cell_type": "code",
   "execution_count": 28,
   "id": "1c521352",
   "metadata": {},
   "outputs": [
    {
     "data": {
      "text/plain": [
       "True"
      ]
     },
     "execution_count": 28,
     "metadata": {},
     "output_type": "execute_result"
    }
   ],
   "source": [
    "np.all(x < 10)  # все ли значения < 10"
   ]
  },
  {
   "cell_type": "code",
   "execution_count": 29,
   "id": "c970196a",
   "metadata": {},
   "outputs": [
    {
     "data": {
      "text/plain": [
       "array([ True, False,  True])"
      ]
     },
     "execution_count": 29,
     "metadata": {},
     "output_type": "execute_result"
    }
   ],
   "source": [
    "np.all(x < 9, axis = 1)  # проверка по осям"
   ]
  },
  {
   "cell_type": "code",
   "execution_count": null,
   "id": "8e0f55ed",
   "metadata": {},
   "outputs": [],
   "source": [
    "# с многомерными массивами работают только методы np.sum np.any np.all, стандартные методы sum... выдадут ошибку и медленные..."
   ]
  },
  {
   "cell_type": "markdown",
   "id": "8d30508a",
   "metadata": {},
   "source": [
    "#### Булевы операторы:  & | ^  ~    NumPy перегружает и их."
   ]
  },
  {
   "cell_type": "code",
   "execution_count": 30,
   "id": "aa19ad55",
   "metadata": {},
   "outputs": [
    {
     "data": {
      "text/plain": [
       "29"
      ]
     },
     "execution_count": 30,
     "metadata": {},
     "output_type": "execute_result"
    }
   ],
   "source": [
    "np.sum((inches > 0.5) & (inches < 1))"
   ]
  },
  {
   "cell_type": "code",
   "execution_count": 32,
   "id": "79ce6375",
   "metadata": {},
   "outputs": [
    {
     "data": {
      "text/plain": [
       "29"
      ]
     },
     "execution_count": 32,
     "metadata": {},
     "output_type": "execute_result"
    }
   ],
   "source": [
    "np.sum(~((inches <= 0.5) | (inches >= 1)))"
   ]
  },
  {
   "cell_type": "code",
   "execution_count": null,
   "id": "1da431b9",
   "metadata": {},
   "outputs": [],
   "source": [
    "&  np.bitwise_and\n",
    "|  np.bitwise_or\n",
    "^  np.bitwise_xor\n",
    "~  np.bitwise_not"
   ]
  },
  {
   "cell_type": "code",
   "execution_count": 33,
   "id": "9b957434",
   "metadata": {},
   "outputs": [
    {
     "data": {
      "text/plain": [
       "215"
      ]
     },
     "execution_count": 33,
     "metadata": {},
     "output_type": "execute_result"
    }
   ],
   "source": [
    "np.sum(inches == 0)"
   ]
  },
  {
   "cell_type": "code",
   "execution_count": 34,
   "id": "6446bcd8",
   "metadata": {},
   "outputs": [
    {
     "data": {
      "text/plain": [
       "150"
      ]
     },
     "execution_count": 34,
     "metadata": {},
     "output_type": "execute_result"
    }
   ],
   "source": [
    "np.sum(inches != 0)"
   ]
  },
  {
   "cell_type": "code",
   "execution_count": 35,
   "id": "6c9e0ce1",
   "metadata": {},
   "outputs": [
    {
     "data": {
      "text/plain": [
       "37"
      ]
     },
     "execution_count": 35,
     "metadata": {},
     "output_type": "execute_result"
    }
   ],
   "source": [
    "np.sum(inches > 0.5)"
   ]
  },
  {
   "cell_type": "code",
   "execution_count": 36,
   "id": "9f767163",
   "metadata": {},
   "outputs": [
    {
     "data": {
      "text/plain": [
       "75"
      ]
     },
     "execution_count": 36,
     "metadata": {},
     "output_type": "execute_result"
    }
   ],
   "source": [
    "np.sum((inches > 0) & (inches < 0.2))"
   ]
  },
  {
   "cell_type": "markdown",
   "id": "ead689e7",
   "metadata": {},
   "source": [
    "### Булевы массивы как маски"
   ]
  },
  {
   "cell_type": "code",
   "execution_count": 37,
   "id": "c9cc01b7",
   "metadata": {},
   "outputs": [
    {
     "data": {
      "text/plain": [
       "array([[5, 0, 3, 3],\n",
       "       [7, 9, 3, 5],\n",
       "       [2, 4, 7, 6]])"
      ]
     },
     "execution_count": 37,
     "metadata": {},
     "output_type": "execute_result"
    }
   ],
   "source": [
    "x"
   ]
  },
  {
   "cell_type": "code",
   "execution_count": 38,
   "id": "4ec5985c",
   "metadata": {},
   "outputs": [
    {
     "data": {
      "text/plain": [
       "array([[False,  True,  True,  True],\n",
       "       [False, False,  True, False],\n",
       "       [ True,  True, False, False]])"
      ]
     },
     "execution_count": 38,
     "metadata": {},
     "output_type": "execute_result"
    }
   ],
   "source": [
    "x < 5"
   ]
  },
  {
   "cell_type": "code",
   "execution_count": 39,
   "id": "a33a7aa6",
   "metadata": {},
   "outputs": [],
   "source": [
    "y = x < 5  # булев массив может быть записан в переменную"
   ]
  },
  {
   "cell_type": "code",
   "execution_count": 40,
   "id": "207eff98",
   "metadata": {},
   "outputs": [
    {
     "data": {
      "text/plain": [
       "array([[False,  True,  True,  True],\n",
       "       [False, False,  True, False],\n",
       "       [ True,  True, False, False]])"
      ]
     },
     "execution_count": 40,
     "metadata": {},
     "output_type": "execute_result"
    }
   ],
   "source": [
    "y"
   ]
  },
  {
   "cell_type": "code",
   "execution_count": null,
   "id": "2ebcef95",
   "metadata": {},
   "outputs": [],
   "source": [
    "# выбор значений отвечающих условию происходит путем индексирования исходного массива по булеву массиву\n",
    "# такое метод носит название:\n",
    "НАЛОЖЕНИЕ МАСКИ\n",
    "МАСКИРОВАНИЕ"
   ]
  },
  {
   "cell_type": "code",
   "execution_count": 41,
   "id": "b71d83d3",
   "metadata": {},
   "outputs": [
    {
     "data": {
      "text/plain": [
       "array([0, 3, 3, 3, 2, 4])"
      ]
     },
     "execution_count": 41,
     "metadata": {},
     "output_type": "execute_result"
    }
   ],
   "source": [
    "x[y]"
   ]
  },
  {
   "cell_type": "code",
   "execution_count": 42,
   "id": "c2ffc95d",
   "metadata": {},
   "outputs": [
    {
     "data": {
      "text/plain": [
       "array([0, 3, 3, 3, 2, 4])"
      ]
     },
     "execution_count": 42,
     "metadata": {},
     "output_type": "execute_result"
    }
   ],
   "source": [
    "x[x<5]"
   ]
  },
  {
   "cell_type": "code",
   "execution_count": null,
   "id": "045dfc3c",
   "metadata": {},
   "outputs": [],
   "source": [
    "# создание маски для всех дождливых дней:"
   ]
  },
  {
   "cell_type": "code",
   "execution_count": 43,
   "id": "8804afa2",
   "metadata": {},
   "outputs": [],
   "source": [
    "rainy = (inches > 0)"
   ]
  },
  {
   "cell_type": "code",
   "execution_count": 45,
   "id": "19a4f0c0",
   "metadata": {},
   "outputs": [],
   "source": [
    "summer = (np.arange(365) - 172 < 90) & (np.arange(365) - 172 > 0)"
   ]
  },
  {
   "cell_type": "code",
   "execution_count": 47,
   "id": "36515c48",
   "metadata": {},
   "outputs": [
    {
     "data": {
      "text/plain": [
       "0.19488188976377951"
      ]
     },
     "execution_count": 47,
     "metadata": {},
     "output_type": "execute_result"
    }
   ],
   "source": [
    "np.median(inches[rainy])"
   ]
  },
  {
   "cell_type": "code",
   "execution_count": 48,
   "id": "acb093c2",
   "metadata": {},
   "outputs": [
    {
     "data": {
      "text/plain": [
       "0.0"
      ]
     },
     "execution_count": 48,
     "metadata": {},
     "output_type": "execute_result"
    }
   ],
   "source": [
    "np.median(inches[summer])"
   ]
  },
  {
   "cell_type": "code",
   "execution_count": 49,
   "id": "c0ddee4f",
   "metadata": {},
   "outputs": [
    {
     "data": {
      "text/plain": [
       "0.8503937007874016"
      ]
     },
     "execution_count": 49,
     "metadata": {},
     "output_type": "execute_result"
    }
   ],
   "source": [
    "np.max(inches[summer])"
   ]
  },
  {
   "cell_type": "code",
   "execution_count": 50,
   "id": "5c965e50",
   "metadata": {},
   "outputs": [
    {
     "data": {
      "text/plain": [
       "0.20078740157480315"
      ]
     },
     "execution_count": 50,
     "metadata": {},
     "output_type": "execute_result"
    }
   ],
   "source": [
    "np.median(inches[rainy & ~summer])"
   ]
  },
  {
   "cell_type": "code",
   "execution_count": null,
   "id": "11140aef",
   "metadata": {},
   "outputs": [],
   "source": [
    "Существует разница м/у операторами and/or и операторами & и |\n",
    "операторы and/or определяют истинность или ложность всего объекта\n",
    "тогда как & и | оперируют отдельными элементами (битами) внутри самого объекта\n",
    "\n",
    "Массив булевых значений можно рассматривать как массив битов, где 1 = True и 0 = False"
   ]
  },
  {
   "cell_type": "code",
   "execution_count": null,
   "id": "5be074ae",
   "metadata": {},
   "outputs": [],
   "source": []
  },
  {
   "cell_type": "code",
   "execution_count": null,
   "id": "779179f3",
   "metadata": {},
   "outputs": [],
   "source": []
  }
 ],
 "metadata": {
  "kernelspec": {
   "display_name": "Python 3 (ipykernel)",
   "language": "python",
   "name": "python3"
  },
  "language_info": {
   "codemirror_mode": {
    "name": "ipython",
    "version": 3
   },
   "file_extension": ".py",
   "mimetype": "text/x-python",
   "name": "python",
   "nbconvert_exporter": "python",
   "pygments_lexer": "ipython3",
   "version": "3.9.7"
  }
 },
 "nbformat": 4,
 "nbformat_minor": 5
}
