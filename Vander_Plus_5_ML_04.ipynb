{
 "cells": [
  {
   "cell_type": "markdown",
   "id": "bba35913",
   "metadata": {},
   "source": [
    "# Проектирование признаков\n",
    "\n",
    "Далеко не всегда данные находятся в правильном формате ``[`` ``n_samples``, ``n_features`` ``]``.\n",
    "\n",
    "Потому одним из важнейших этапов использования ML на практике становится ``проектирование признаков (feature engineering)``, т.е. преобразование всей касающейса задачи информации в числа, пригодные для построения матрицы признаков.\n",
    "\n",
    "Рассмотрим несколько часто встречающихся примеров задач проектирования признаков:\n",
    "\n",
    "- признаки для представления ``категориальных данных (categorical data)``\n",
    "- признаки для представления ``текста``\n",
    "- признаки для представления ``изображений``\n",
    "\n",
    "И использование ``производных признаков (derived features)`` для повышения сложности модели и заполнения отсутствующих данных. Этот процесс часто называют ``векторизацией``, т.к. он включает преобразование данных в произвольной форме в аккуратные вектроы."
   ]
  },
  {
   "cell_type": "markdown",
   "id": "267cbd97",
   "metadata": {},
   "source": [
    "## Категориальные признаки\n",
    "\n",
    "``категориальные данные (categorical data)`` - один из распространенных типов нечисловых данных.\n",
    "\n",
    "Например мы анализируем какие-то данные с ценами на жилье, и помимо числовых признаков, таких как цена, площадь, в них так же существуют нечисловые - микрорайон (neighborhood)."
   ]
  },
  {
   "cell_type": "code",
   "execution_count": 1,
   "id": "9995e93a",
   "metadata": {},
   "outputs": [],
   "source": [
    "data = [\n",
    "    {'price': 850000, 'rooms': 4, 'neighborhood': 'Queen Anne'},\n",
    "    {'price': 700000, 'rooms': 3, 'neighborhood': 'Fremont'},\n",
    "    {'price': 650000, 'rooms': 3, 'neighborhood': 'Wallingford'},\n",
    "    {'price': 600000, 'rooms': 2, 'neighborhood': 'Fremont'}\n",
    "]"
   ]
  },
  {
   "cell_type": "code",
   "execution_count": 2,
   "id": "b1c5e14f",
   "metadata": {},
   "outputs": [
    {
     "data": {
      "text/plain": [
       "{'Queen Anne': 1, 'Fremont': 2, 'Wallingford': 3}"
      ]
     },
     "execution_count": 2,
     "metadata": {},
     "output_type": "execute_result"
    }
   ],
   "source": [
    "# Может показаться, что кодировать эти данные следует как словарь\n",
    "{'Queen Anne': 1, 'Fremont': 2, 'Wallingford': 3}"
   ]
  },
  {
   "cell_type": "markdown",
   "id": "778ae4e2",
   "metadata": {},
   "source": [
    "Но модели SKL исходят из допущения, что числовые признаки отражают алгебраические величины.\n",
    "Следовательно подобное отображение будет подразумевать:\n",
    "\n",
    "Queen Anne < Fremont < Wallingford\n",
    "\n",
    "или даже\n",
    "\n",
    "Wallingford - Queen Anne = Fremont\n",
    "\n",
    "что не имеет смысла."
   ]
  },
  {
   "cell_type": "markdown",
   "id": "257c684b",
   "metadata": {},
   "source": [
    "Испытанным методом для такого случая будет ``прямое кодирование (one-hot)`` означающее создание дополнительных столбцов индикаторов наличия/отсутствия категории с помощью значений 1 или 0.\n",
    "\n",
    "При наличии данных в виде списка словарей для этой цели можно воспользоваться утилитой ``DictVectorizer`` библиотеки SKL."
   ]
  },
  {
   "cell_type": "code",
   "execution_count": 3,
   "id": "133f9732",
   "metadata": {},
   "outputs": [],
   "source": [
    "from sklearn.feature_extraction import DictVectorizer"
   ]
  },
  {
   "cell_type": "code",
   "execution_count": 4,
   "id": "86484b08",
   "metadata": {},
   "outputs": [
    {
     "data": {
      "text/plain": [
       "array([[     0,      1,      0, 850000,      4],\n",
       "       [     1,      0,      0, 700000,      3],\n",
       "       [     0,      0,      1, 650000,      3],\n",
       "       [     1,      0,      0, 600000,      2]])"
      ]
     },
     "execution_count": 4,
     "metadata": {},
     "output_type": "execute_result"
    }
   ],
   "source": [
    "vec = DictVectorizer(sparse=False, dtype=int)\n",
    "vec.fit_transform(data)"
   ]
  },
  {
   "cell_type": "markdown",
   "id": "927d3b3b",
   "metadata": {},
   "source": [
    "Столбец *neighborhood* превратился в 3 отдельных столбца.\n",
    "\n",
    "Чтобы узнать что означает каждый столбец можно посметреть названия признаков:"
   ]
  },
  {
   "cell_type": "code",
   "execution_count": 5,
   "id": "f185f4ec",
   "metadata": {},
   "outputs": [
    {
     "data": {
      "text/plain": [
       "['neighborhood=Fremont',\n",
       " 'neighborhood=Queen Anne',\n",
       " 'neighborhood=Wallingford',\n",
       " 'price',\n",
       " 'rooms']"
      ]
     },
     "execution_count": 5,
     "metadata": {},
     "output_type": "execute_result"
    }
   ],
   "source": [
    "vec.get_feature_names()"
   ]
  },
  {
   "cell_type": "markdown",
   "id": "74728a63",
   "metadata": {},
   "source": [
    "У такого подхода есть очивидный недостатое: если кол-во категорий велико - то размер набора данных может значительно вырости.\n",
    "\n",
    "Однако, поскольку кодирование данных состоит в основном из 0, эффективным решением будет ``разрежанный формат`` вывода:"
   ]
  },
  {
   "cell_type": "code",
   "execution_count": 6,
   "id": "049f2e92",
   "metadata": {},
   "outputs": [
    {
     "data": {
      "text/plain": [
       "<4x5 sparse matrix of type '<class 'numpy.int32'>'\n",
       "\twith 12 stored elements in Compressed Sparse Row format>"
      ]
     },
     "execution_count": 6,
     "metadata": {},
     "output_type": "execute_result"
    }
   ],
   "source": [
    "# sparse - разрежанный\n",
    "vec = DictVectorizer(sparse=True, dtype=int)\n",
    "vec.fit_transform(data)"
   ]
  },
  {
   "cell_type": "code",
   "execution_count": 7,
   "id": "9fad815c",
   "metadata": {},
   "outputs": [
    {
     "name": "stdout",
     "output_type": "stream",
     "text": [
      "  (0, 1)\t1\n",
      "  (0, 3)\t850000\n",
      "  (0, 4)\t4\n",
      "  (1, 0)\t1\n",
      "  (1, 3)\t700000\n",
      "  (1, 4)\t3\n",
      "  (2, 2)\t1\n",
      "  (2, 3)\t650000\n",
      "  (2, 4)\t3\n",
      "  (3, 0)\t1\n",
      "  (3, 3)\t600000\n",
      "  (3, 4)\t2\n"
     ]
    }
   ],
   "source": [
    "print(vec.fit_transform(data))"
   ]
  },
  {
   "cell_type": "code",
   "execution_count": 8,
   "id": "2fe1cf0e",
   "metadata": {},
   "outputs": [],
   "source": [
    "import pandas as pd"
   ]
  },
  {
   "cell_type": "code",
   "execution_count": 9,
   "id": "1c2e6af6",
   "metadata": {},
   "outputs": [
    {
     "data": {
      "text/html": [
       "<div>\n",
       "<style scoped>\n",
       "    .dataframe tbody tr th:only-of-type {\n",
       "        vertical-align: middle;\n",
       "    }\n",
       "\n",
       "    .dataframe tbody tr th {\n",
       "        vertical-align: top;\n",
       "    }\n",
       "\n",
       "    .dataframe thead th {\n",
       "        text-align: right;\n",
       "    }\n",
       "</style>\n",
       "<table border=\"1\" class=\"dataframe\">\n",
       "  <thead>\n",
       "    <tr style=\"text-align: right;\">\n",
       "      <th></th>\n",
       "      <th>price</th>\n",
       "      <th>rooms</th>\n",
       "      <th>neighborhood</th>\n",
       "    </tr>\n",
       "  </thead>\n",
       "  <tbody>\n",
       "    <tr>\n",
       "      <th>0</th>\n",
       "      <td>850000</td>\n",
       "      <td>4</td>\n",
       "      <td>Queen Anne</td>\n",
       "    </tr>\n",
       "    <tr>\n",
       "      <th>1</th>\n",
       "      <td>700000</td>\n",
       "      <td>3</td>\n",
       "      <td>Fremont</td>\n",
       "    </tr>\n",
       "    <tr>\n",
       "      <th>2</th>\n",
       "      <td>650000</td>\n",
       "      <td>3</td>\n",
       "      <td>Wallingford</td>\n",
       "    </tr>\n",
       "    <tr>\n",
       "      <th>3</th>\n",
       "      <td>600000</td>\n",
       "      <td>2</td>\n",
       "      <td>Fremont</td>\n",
       "    </tr>\n",
       "  </tbody>\n",
       "</table>\n",
       "</div>"
      ],
      "text/plain": [
       "    price  rooms neighborhood\n",
       "0  850000      4   Queen Anne\n",
       "1  700000      3      Fremont\n",
       "2  650000      3  Wallingford\n",
       "3  600000      2      Fremont"
      ]
     },
     "execution_count": 9,
     "metadata": {},
     "output_type": "execute_result"
    }
   ],
   "source": [
    "pd.DataFrame(data)"
   ]
  },
  {
   "cell_type": "markdown",
   "id": "0a6e8c4e",
   "metadata": {},
   "source": [
    "Многие оцениватели SKL допускают передачу им подобных разрежанных данных при обучении и оценке моделей.\n",
    "\n",
    "Для поддержки подобного кодирования существуют 2 утилиты:\n",
    "- ``sklearn.preprocessing.OneHotEncoder``\n",
    "- ``sklearn.feature_extraction.FeatureHasher``"
   ]
  },
  {
   "cell_type": "markdown",
   "id": "07f46b08",
   "metadata": {},
   "source": [
    "## Текстовые признаки\n",
    "\n",
    "Часто требуется преобразовать текст в набор репрезентативных числовых значений.\n",
    "\n",
    "Один из простейщих методов - по *количеству слов*: для каждого фрагмента текста подсчитывается количество вхождений в него каждого из слов, после чего результаты помещаются в таблицу."
   ]
  },
  {
   "cell_type": "code",
   "execution_count": 10,
   "id": "46b16b8b",
   "metadata": {},
   "outputs": [],
   "source": [
    "sample = ['problem of evil',\n",
    "          'evil queen',\n",
    "          'horizon problem']"
   ]
  },
  {
   "cell_type": "code",
   "execution_count": 11,
   "id": "92617736",
   "metadata": {},
   "outputs": [
    {
     "data": {
      "text/plain": [
       "<3x5 sparse matrix of type '<class 'numpy.int64'>'\n",
       "\twith 7 stored elements in Compressed Sparse Row format>"
      ]
     },
     "execution_count": 11,
     "metadata": {},
     "output_type": "execute_result"
    }
   ],
   "source": [
    "from sklearn.feature_extraction.text import CountVectorizer\n",
    "\n",
    "vec = CountVectorizer()\n",
    "X = vec.fit_transform(sample)\n",
    "X"
   ]
  },
  {
   "cell_type": "code",
   "execution_count": 12,
   "id": "c33948a7",
   "metadata": {},
   "outputs": [
    {
     "data": {
      "text/html": [
       "<div>\n",
       "<style scoped>\n",
       "    .dataframe tbody tr th:only-of-type {\n",
       "        vertical-align: middle;\n",
       "    }\n",
       "\n",
       "    .dataframe tbody tr th {\n",
       "        vertical-align: top;\n",
       "    }\n",
       "\n",
       "    .dataframe thead th {\n",
       "        text-align: right;\n",
       "    }\n",
       "</style>\n",
       "<table border=\"1\" class=\"dataframe\">\n",
       "  <thead>\n",
       "    <tr style=\"text-align: right;\">\n",
       "      <th></th>\n",
       "      <th>evil</th>\n",
       "      <th>horizon</th>\n",
       "      <th>of</th>\n",
       "      <th>problem</th>\n",
       "      <th>queen</th>\n",
       "    </tr>\n",
       "  </thead>\n",
       "  <tbody>\n",
       "    <tr>\n",
       "      <th>0</th>\n",
       "      <td>1</td>\n",
       "      <td>0</td>\n",
       "      <td>1</td>\n",
       "      <td>1</td>\n",
       "      <td>0</td>\n",
       "    </tr>\n",
       "    <tr>\n",
       "      <th>1</th>\n",
       "      <td>1</td>\n",
       "      <td>0</td>\n",
       "      <td>0</td>\n",
       "      <td>0</td>\n",
       "      <td>1</td>\n",
       "    </tr>\n",
       "    <tr>\n",
       "      <th>2</th>\n",
       "      <td>0</td>\n",
       "      <td>1</td>\n",
       "      <td>0</td>\n",
       "      <td>1</td>\n",
       "      <td>0</td>\n",
       "    </tr>\n",
       "  </tbody>\n",
       "</table>\n",
       "</div>"
      ],
      "text/plain": [
       "   evil  horizon  of  problem  queen\n",
       "0     1        0   1        1      0\n",
       "1     1        0   0        0      1\n",
       "2     0        1   0        1      0"
      ]
     },
     "execution_count": 12,
     "metadata": {},
     "output_type": "execute_result"
    }
   ],
   "source": [
    "pd.DataFrame(X.toarray(), columns=vec.get_feature_names())"
   ]
  },
  {
   "cell_type": "markdown",
   "id": "1dd693cd",
   "metadata": {},
   "source": [
    "У такого подхода есть проболемма: подсчет кол-ва слов ведет к большим значениям для признков соответствующих часто встечающимся словам. Для некоторых алгоритмов классификации это можето оказаться субпродуктивным.\n",
    "\n",
    "Один из подходов к решению этой проблеммы: \n",
    "- ``частота термина, обратная частоте документа (term frequency-inverse document frequency)`` или ``TF–IDF``\n",
    "\n",
    "При таком подходе слова получают вес с учетом частоты их появления во всех документах."
   ]
  },
  {
   "cell_type": "code",
   "execution_count": 13,
   "id": "ece4e805",
   "metadata": {},
   "outputs": [
    {
     "data": {
      "text/html": [
       "<div>\n",
       "<style scoped>\n",
       "    .dataframe tbody tr th:only-of-type {\n",
       "        vertical-align: middle;\n",
       "    }\n",
       "\n",
       "    .dataframe tbody tr th {\n",
       "        vertical-align: top;\n",
       "    }\n",
       "\n",
       "    .dataframe thead th {\n",
       "        text-align: right;\n",
       "    }\n",
       "</style>\n",
       "<table border=\"1\" class=\"dataframe\">\n",
       "  <thead>\n",
       "    <tr style=\"text-align: right;\">\n",
       "      <th></th>\n",
       "      <th>evil</th>\n",
       "      <th>horizon</th>\n",
       "      <th>of</th>\n",
       "      <th>problem</th>\n",
       "      <th>queen</th>\n",
       "    </tr>\n",
       "  </thead>\n",
       "  <tbody>\n",
       "    <tr>\n",
       "      <th>0</th>\n",
       "      <td>0.517856</td>\n",
       "      <td>0.000000</td>\n",
       "      <td>0.680919</td>\n",
       "      <td>0.517856</td>\n",
       "      <td>0.000000</td>\n",
       "    </tr>\n",
       "    <tr>\n",
       "      <th>1</th>\n",
       "      <td>0.605349</td>\n",
       "      <td>0.000000</td>\n",
       "      <td>0.000000</td>\n",
       "      <td>0.000000</td>\n",
       "      <td>0.795961</td>\n",
       "    </tr>\n",
       "    <tr>\n",
       "      <th>2</th>\n",
       "      <td>0.000000</td>\n",
       "      <td>0.795961</td>\n",
       "      <td>0.000000</td>\n",
       "      <td>0.605349</td>\n",
       "      <td>0.000000</td>\n",
       "    </tr>\n",
       "  </tbody>\n",
       "</table>\n",
       "</div>"
      ],
      "text/plain": [
       "       evil   horizon        of   problem     queen\n",
       "0  0.517856  0.000000  0.680919  0.517856  0.000000\n",
       "1  0.605349  0.000000  0.000000  0.000000  0.795961\n",
       "2  0.000000  0.795961  0.000000  0.605349  0.000000"
      ]
     },
     "execution_count": 13,
     "metadata": {},
     "output_type": "execute_result"
    }
   ],
   "source": [
    "from sklearn.feature_extraction.text import TfidfVectorizer\n",
    "vec = TfidfVectorizer()\n",
    "X = vec.fit_transform(sample)\n",
    "pd.DataFrame(X.toarray(), columns=vec.get_feature_names())"
   ]
  },
  {
   "cell_type": "markdown",
   "id": "0a79ab4c",
   "metadata": {},
   "source": [
    "## Признаки для изображений\n",
    "\n",
    "Простейший подход - использовать значения интенсивности пикселей. Но он может оказаться неоптимальным для прикладных задач.\n",
    "\n",
    "Существует библиотека, специализирующийся на анализе изображений ``Scikit-Image``  https://scikit-image.org"
   ]
  },
  {
   "cell_type": "markdown",
   "id": "6c2f583f",
   "metadata": {},
   "source": [
    "### Производные признаки\n",
    "\n",
    "Ещё один **удобный тип признаков - выведенные математически из каких-либо входных признаков** (``тут мы типа создаем аналитические/расчетные столбцы (доп признаки)``.\n",
    "\n",
    "**Ранее мы создавали полиномиальные признаки из входных данных.**\n",
    "\n",
    "Можно преобразовать, например, линейную регрессию в полиномиальную **не меняя модель, а меняя (вычисляя) признаки**\n",
    "\n",
    "Из предыдущей главы:\n",
    "\n",
    "------------------------------------------------------------------------------------------------------------------------------\n",
    "Рассмотрим пример перекрестной проверки для расчета кривой проверки для класса моделей. Используем ``модель полиномиальной регрессии (polynomial regression model)``: это обобщенная линейная модель с параметризованной степенью многочлена.\n",
    "\n",
    "1я степень $a$ и $b$\n",
    "$$\n",
    "y = ax + b\n",
    "$$\n",
    "\n",
    "3я степень $a, b, c, d$\n",
    "$$\n",
    "y = ax^3 + bx^2 + cx + d\n",
    "$$\n",
    "\n",
    "Это можно обобщить на любое кол-во полиномиальных признаков.\n",
    "\n",
    "В библиотеке SKL реализовать это можно с помощью **простой линейной регрессии в сочетании с полиномиальным препроцессором.**\n",
    "\n",
    "Воспользуемся ``конвейером (pipeline)`` для соединения этих операций в единую цепочку.\n",
    "\n",
    "Как это выглядело:\n",
    "\n",
    "------------------------------------------------------------------------------------------------------------------------------"
   ]
  },
  {
   "cell_type": "code",
   "execution_count": 14,
   "id": "a831f344",
   "metadata": {},
   "outputs": [],
   "source": [
    "# from sklearn.preprocessing import PolynomialFeatures\n",
    "# from sklearn.linear_model import LinearRegression\n",
    "# from sklearn.pipeline import make_pipeline\n",
    "\n",
    "# def PolynomialRegression(degree=2, **kwargs):\n",
    "#     return make_pipeline(PolynomialFeatures(degree),\n",
    "#                          LinearRegression(**kwargs))"
   ]
  },
  {
   "cell_type": "markdown",
   "id": "9d43d432",
   "metadata": {},
   "source": [
    "Такой метод известен как ``регрессия по комбинации базисных ф-ий (basis function regression)``.\n",
    "\n",
    "Например, очеведно, что следующие данные нельзя адекватно описать с помощью линии:"
   ]
  },
  {
   "cell_type": "code",
   "execution_count": 15,
   "id": "87ca29f3",
   "metadata": {},
   "outputs": [
    {
     "data": {
      "text/plain": [
       "<matplotlib.collections.PathCollection at 0x1570b045160>"
      ]
     },
     "execution_count": 15,
     "metadata": {},
     "output_type": "execute_result"
    },
    {
     "data": {
      "image/png": "[encoded data removed]",
      "text/plain": [
       "<Figure size 432x288 with 1 Axes>"
      ]
     },
     "metadata": {
      "needs_background": "light"
     },
     "output_type": "display_data"
    }
   ],
   "source": [
    "import numpy as np\n",
    "import matplotlib.pyplot as plt\n",
    "\n",
    "x = np.array([1, 2, 3, 4, 5])\n",
    "y = np.array([4, 2, 1, 3, 7])\n",
    "plt.scatter(x, y)"
   ]
  },
  {
   "cell_type": "markdown",
   "id": "8e169ccd",
   "metadata": {},
   "source": [
    "Тем не менее мы можем подобрать разделяющую линию для этих данных"
   ]
  },
  {
   "cell_type": "code",
   "execution_count": 16,
   "id": "0359990c",
   "metadata": {},
   "outputs": [
    {
     "data": {
      "text/plain": [
       "[<matplotlib.lines.Line2D at 0x1570ba62310>]"
      ]
     },
     "execution_count": 16,
     "metadata": {},
     "output_type": "execute_result"
    },
    {
     "data": {
      "image/png": "[encoded data removed]",
      "text/plain": [
       "<Figure size 432x288 with 1 Axes>"
      ]
     },
     "metadata": {
      "needs_background": "light"
     },
     "output_type": "display_data"
    }
   ],
   "source": [
    "from sklearn.linear_model import LinearRegression\n",
    "X = x[:, np.newaxis]\n",
    "model = LinearRegression().fit(X, y)\n",
    "yfit = model.predict(X)\n",
    "plt.scatter(x, y)\n",
    "plt.plot(x, yfit)"
   ]
  },
  {
   "cell_type": "markdown",
   "id": "a95f40f0",
   "metadata": {},
   "source": [
    "Очевидно, что для описания зависимости м/у **x** и **y** нам потребуется более сложная модель.\n",
    "\n",
    "Сделать это можно путем преобразования данных, добабви дополнительные столбцы признаков для увеличения гибкости модели. \n",
    "\n",
    "Добавить в данные полиномиальные признаки можно следующим образом:"
   ]
  },
  {
   "cell_type": "code",
   "execution_count": 17,
   "id": "c146ce36",
   "metadata": {},
   "outputs": [
    {
     "name": "stdout",
     "output_type": "stream",
     "text": [
      "[[  1.   1.   1.]\n",
      " [  2.   4.   8.]\n",
      " [  3.   9.  27.]\n",
      " [  4.  16.  64.]\n",
      " [  5.  25. 125.]]\n"
     ]
    }
   ],
   "source": [
    "from sklearn.preprocessing import PolynomialFeatures\n",
    "poly = PolynomialFeatures(degree=3, include_bias=False)\n",
    "X2 = poly.fit_transform(X)\n",
    "print(X2)\n",
    "# матрица производных признаков:"
   ]
  },
  {
   "cell_type": "markdown",
   "id": "55a90b43",
   "metadata": {},
   "source": [
    "В матрице производных признаков первый столбец соответствует $x$, второй - $x^2$, а третий - $x^3$.\n",
    "\n",
    "//*вот только, что-то я не понял, это получается мы не точки берем, а пишем ура-я отрезков, тогда почему их 5?*//\n",
    "\n",
    "https://scikit-learn.org/stable/modules/generated/sklearn.preprocessing.PolynomialFeatures.html\n",
    "\n",
    "sklearn.preprocessing.PolynomialFeatures(degree=2, *, interaction_only=False, include_bias=True, order='C')\n",
    "\n",
    "\n",
    "Сгенерирует новую матрицу признаков, состоящую из всех полиномиальных комбинаций признаков со степенью, меньшей или равной указанной степени. Например, если входная выборка является двумерной и имеет форму ``[`` $a$, $b$ ``]``, то: \n",
    "- полиномиальные признаки степени 2 будут ``[`` $1$, $a$, $b$, $a^2$, $ab$, $b^2$ ``]``\n",
    "\n",
    "//Тогда почему их 3?*//"
   ]
  },
  {
   "cell_type": "markdown",
   "id": "f431fd96",
   "metadata": {},
   "source": [
    "###### анука:"
   ]
  },
  {
   "cell_type": "code",
   "execution_count": 18,
   "id": "5c9ea56b",
   "metadata": {},
   "outputs": [
    {
     "data": {
      "text/plain": [
       "array([[0, 1],\n",
       "       [2, 3],\n",
       "       [4, 5]])"
      ]
     },
     "execution_count": 18,
     "metadata": {},
     "output_type": "execute_result"
    }
   ],
   "source": [
    "X = np.arange(6).reshape(3, 2)\n",
    "X"
   ]
  },
  {
   "cell_type": "code",
   "execution_count": 19,
   "id": "c5e967f9",
   "metadata": {},
   "outputs": [
    {
     "data": {
      "text/plain": [
       "array([[ 1.,  0.,  1.,  0.,  0.,  1.],\n",
       "       [ 1.,  2.,  3.,  4.,  6.,  9.],\n",
       "       [ 1.,  4.,  5., 16., 20., 25.]])"
      ]
     },
     "execution_count": 19,
     "metadata": {},
     "output_type": "execute_result"
    }
   ],
   "source": [
    "poly = PolynomialFeatures(2)\n",
    "poly.fit_transform(X)"
   ]
  },
  {
   "cell_type": "code",
   "execution_count": 20,
   "id": "40cfcb91",
   "metadata": {},
   "outputs": [
    {
     "data": {
      "text/plain": [
       "array([[ 1.,  0.,  1.,  0.],\n",
       "       [ 1.,  2.,  3.,  6.],\n",
       "       [ 1.,  4.,  5., 20.]])"
      ]
     },
     "execution_count": 20,
     "metadata": {},
     "output_type": "execute_result"
    }
   ],
   "source": [
    "poly = PolynomialFeatures(interaction_only=True)\n",
    "poly.fit_transform(X)"
   ]
  },
  {
   "cell_type": "code",
   "execution_count": 21,
   "id": "ec87ffe0",
   "metadata": {},
   "outputs": [
    {
     "data": {
      "text/plain": [
       "array([[  1.,   0.,   1.,   0.,   0.,   1.,   0.,   0.,   0.,   1.],\n",
       "       [  1.,   2.,   3.,   4.,   6.,   9.,   8.,  12.,  18.,  27.],\n",
       "       [  1.,   4.,   5.,  16.,  20.,  25.,  64.,  80., 100., 125.]])"
      ]
     },
     "execution_count": 21,
     "metadata": {},
     "output_type": "execute_result"
    }
   ],
   "source": [
    "poly = PolynomialFeatures(3)\n",
    "poly.fit_transform(X)"
   ]
  },
  {
   "cell_type": "code",
   "execution_count": 22,
   "id": "8b44b5e3",
   "metadata": {},
   "outputs": [
    {
     "data": {
      "text/plain": [
       "array([[  1.,   0.,   1.,   0.,   0.,   1.,   0.,   0.,   0.,   1.],\n",
       "       [  1.,   2.,   3.,   4.,   6.,   9.,   8.,  12.,  18.,  27.],\n",
       "       [  1.,   4.,   5.,  16.,  20.,  25.,  64.,  80., 100., 125.]])"
      ]
     },
     "execution_count": 22,
     "metadata": {},
     "output_type": "execute_result"
    }
   ],
   "source": [
    "poly = PolynomialFeatures(degree=3)\n",
    "poly.fit_transform(X)"
   ]
  },
  {
   "cell_type": "code",
   "execution_count": 23,
   "id": "34eed63b",
   "metadata": {},
   "outputs": [
    {
     "data": {
      "text/plain": [
       "array([[  0.,   1.,   0.,   0.,   1.,   0.,   0.,   0.,   1.],\n",
       "       [  2.,   3.,   4.,   6.,   9.,   8.,  12.,  18.,  27.],\n",
       "       [  4.,   5.,  16.,  20.,  25.,  64.,  80., 100., 125.]])"
      ]
     },
     "execution_count": 23,
     "metadata": {},
     "output_type": "execute_result"
    }
   ],
   "source": [
    "poly = PolynomialFeatures(degree=3, include_bias=False)\n",
    "poly.fit_transform(X)"
   ]
  },
  {
   "cell_type": "code",
   "execution_count": 24,
   "id": "e73a7c25",
   "metadata": {},
   "outputs": [
    {
     "data": {
      "text/plain": [
       "[<matplotlib.lines.Line2D at 0x1570cf89f10>]"
      ]
     },
     "execution_count": 24,
     "metadata": {},
     "output_type": "execute_result"
    },
    {
     "data": {
      "image/png": "[encoded data removed]",
      "text/plain": [
       "<Figure size 432x288 with 1 Axes>"
      ]
     },
     "metadata": {
      "needs_background": "light"
     },
     "output_type": "display_data"
    }
   ],
   "source": [
    "X = x[:, np.newaxis]\n",
    "model = LinearRegression().fit(X, y)\n",
    "yfit = model.predict(X)\n",
    "plt.scatter(x, y)\n",
    "plt.plot(x, yfit)"
   ]
  },
  {
   "cell_type": "code",
   "execution_count": 25,
   "id": "e183730a",
   "metadata": {},
   "outputs": [
    {
     "data": {
      "text/plain": [
       "array([[1],\n",
       "       [2],\n",
       "       [3],\n",
       "       [4],\n",
       "       [5]])"
      ]
     },
     "execution_count": 25,
     "metadata": {},
     "output_type": "execute_result"
    }
   ],
   "source": [
    "X"
   ]
  },
  {
   "cell_type": "code",
   "execution_count": 26,
   "id": "afa79a35",
   "metadata": {},
   "outputs": [
    {
     "name": "stdout",
     "output_type": "stream",
     "text": [
      "[[  1.   1.   1.]\n",
      " [  2.   4.   8.]\n",
      " [  3.   9.  27.]\n",
      " [  4.  16.  64.]\n",
      " [  5.  25. 125.]]\n"
     ]
    }
   ],
   "source": [
    "poly = PolynomialFeatures(degree=3, include_bias=False)\n",
    "X2 = poly.fit_transform(X)\n",
    "print(X2)"
   ]
  },
  {
   "cell_type": "markdown",
   "id": "a79d81e0",
   "metadata": {},
   "source": [
    "###### Потому что это ``только для x``    ``не для y``"
   ]
  },
  {
   "cell_type": "code",
   "execution_count": 27,
   "id": "057fb60d",
   "metadata": {},
   "outputs": [],
   "source": [
    "X = np.array([[0, 1], \n",
    "              [0, 2],\n",
    "              [0, 3],\n",
    "              [0, 4],\n",
    "              [0, 5]])"
   ]
  },
  {
   "cell_type": "code",
   "execution_count": 28,
   "id": "f100b119",
   "metadata": {},
   "outputs": [
    {
     "data": {
      "text/plain": [
       "array([[ 1.,  0.,  1.,  0.,  0.,  1.],\n",
       "       [ 1.,  0.,  2.,  0.,  0.,  4.],\n",
       "       [ 1.,  0.,  3.,  0.,  0.,  9.],\n",
       "       [ 1.,  0.,  4.,  0.,  0., 16.],\n",
       "       [ 1.,  0.,  5.,  0.,  0., 25.]])"
      ]
     },
     "execution_count": 28,
     "metadata": {},
     "output_type": "execute_result"
    }
   ],
   "source": [
    "poly = PolynomialFeatures(2)\n",
    "poly.fit_transform(X)"
   ]
  },
  {
   "cell_type": "markdown",
   "id": "e06ac7df",
   "metadata": {},
   "source": [
    "###### как-то так"
   ]
  },
  {
   "cell_type": "code",
   "execution_count": 29,
   "id": "a5446423",
   "metadata": {},
   "outputs": [
    {
     "data": {
      "text/plain": [
       "[<matplotlib.lines.Line2D at 0x15705e61430>]"
      ]
     },
     "execution_count": 29,
     "metadata": {},
     "output_type": "execute_result"
    },
    {
     "data": {
      "image/png": "[encoded data removed]",
      "text/plain": [
       "<Figure size 432x288 with 1 Axes>"
      ]
     },
     "metadata": {
      "needs_background": "light"
     },
     "output_type": "display_data"
    }
   ],
   "source": [
    "X = x[:, np.newaxis]\n",
    "model = LinearRegression().fit(X, y)\n",
    "yfit = model.predict(X)\n",
    "plt.scatter(x, y)\n",
    "plt.plot(x, yfit)"
   ]
  },
  {
   "cell_type": "code",
   "execution_count": 31,
   "id": "26e267d2",
   "metadata": {},
   "outputs": [
    {
     "name": "stdout",
     "output_type": "stream",
     "text": [
      "[[  1.   1.   1.   1.]\n",
      " [  1.   2.   4.   8.]\n",
      " [  1.   3.   9.  27.]\n",
      " [  1.   4.  16.  64.]\n",
      " [  1.   5.  25. 125.]]\n"
     ]
    }
   ],
   "source": [
    "poly = PolynomialFeatures(degree=3, include_bias=True) # include_bias=True включать смещение\n",
    "X2 = poly.fit_transform(X)\n",
    "print(X2)"
   ]
  },
  {
   "cell_type": "code",
   "execution_count": 32,
   "id": "a398ba17",
   "metadata": {},
   "outputs": [
    {
     "name": "stdout",
     "output_type": "stream",
     "text": [
      "[[  1.   1.   1.]\n",
      " [  2.   4.   8.]\n",
      " [  3.   9.  27.]\n",
      " [  4.  16.  64.]\n",
      " [  5.  25. 125.]]\n"
     ]
    }
   ],
   "source": [
    "poly = PolynomialFeatures(degree=3, include_bias=False)\n",
    "X2 = poly.fit_transform(X)\n",
    "print(X2)"
   ]
  },
  {
   "cell_type": "markdown",
   "id": "af45e099",
   "metadata": {},
   "source": [
    "Расчет линейной регрессии для таких **расширенных** входных данных позволяет получить намного лучшую аппроксимацию:"
   ]
  },
  {
   "cell_type": "code",
   "execution_count": 34,
   "id": "64006107",
   "metadata": {},
   "outputs": [
    {
     "data": {
      "text/plain": [
       "<matplotlib.collections.PathCollection at 0x1570e65ee80>"
      ]
     },
     "execution_count": 34,
     "metadata": {},
     "output_type": "execute_result"
    },
    {
     "data": {
      "image/png": "[encoded data removed]",
      "text/plain": [
       "<Figure size 432x288 with 1 Axes>"
      ]
     },
     "metadata": {
      "needs_background": "light"
     },
     "output_type": "display_data"
    }
   ],
   "source": [
    "model = LinearRegression().fit(X2, y)\n",
    "yfit = model.predict(X2)\n",
    "plt.scatter(x, y)\n",
    "plt.plot(x, yfit)\n",
    "plt.scatter(x, yfit)"
   ]
  },
  {
   "cell_type": "markdown",
   "id": "342ecbd3",
   "metadata": {},
   "source": [
    "Идея ``улучшения модели``  ``без изменения модели``, а **путем преобразования входных данных** является базовой для многих более продвинутых методов машинного обучения.\n",
    "//я такое уже делал оказывается 😊, сам того не подозревая, для аналитики//\n",
    "\n",
    "В общем случае **это путь к набору обладающих огромными возможностями методик**, известных под названием ``ядерные методы (kernel methods)``.\n",
    "\n",
    "//ну оно и понятно"
   ]
  },
  {
   "cell_type": "markdown",
   "id": "3503d2b1",
   "metadata": {},
   "source": [
    "## Внесение отсутствующих данных\n",
    "\n",
    "Еще одна часто встречающаяся задача в проектировании признаков - обработка отсутствующих данных. (которые NaN)"
   ]
  },
  {
   "cell_type": "code",
   "execution_count": 35,
   "id": "7534e419",
   "metadata": {},
   "outputs": [],
   "source": [
    "from numpy import nan\n",
    "X = np.array([[ nan, 0,   3  ],\n",
    "              [ 3,   7,   9  ],\n",
    "              [ 3,   5,   2  ],\n",
    "              [ 4,   nan, 6  ],\n",
    "              [ 8,   8,   1  ]])\n",
    "y = np.array([14, 16, -1,  8, -5])"
   ]
  },
  {
   "cell_type": "markdown",
   "id": "40b24f8d",
   "metadata": {},
   "source": [
    "При использовании для подобных данных типичной модели машинного обучения ***необходимо сначала заменить отсутствующие данные каким-либо подходящим значением**.\n",
    "\n",
    "Это действие называется ``заполнением/вменением (imputation)`` пропущеных значений.\n",
    "\n",
    "Для реализации простого подхода на основе среднего значения/медианы/моды SKL предлагает класс ``SimpleImputer``"
   ]
  },
  {
   "cell_type": "code",
   "execution_count": 36,
   "id": "efce503e",
   "metadata": {},
   "outputs": [
    {
     "data": {
      "text/plain": [
       "array([[4.5, 0. , 3. ],\n",
       "       [3. , 7. , 9. ],\n",
       "       [3. , 5. , 2. ],\n",
       "       [4. , 5. , 6. ],\n",
       "       [8. , 8. , 1. ]])"
      ]
     },
     "execution_count": 36,
     "metadata": {},
     "output_type": "execute_result"
    }
   ],
   "source": [
    "from sklearn.impute import SimpleImputer\n",
    "imp = SimpleImputer(strategy='mean')\n",
    "X2 = imp.fit_transform(X)\n",
    "X2"
   ]
  },
  {
   "cell_type": "code",
   "execution_count": 37,
   "id": "48f46397",
   "metadata": {},
   "outputs": [
    {
     "data": {
      "text/plain": [
       "array([13.14869292, 14.3784627 , -1.15539732, 10.96606197, -5.33782027])"
      ]
     },
     "execution_count": 37,
     "metadata": {},
     "output_type": "execute_result"
    }
   ],
   "source": [
    "# а эти данные уже можно передать оценивателю\n",
    "model = LinearRegression().fit(X2, y)\n",
    "model.predict(X2)"
   ]
  },
  {
   "cell_type": "markdown",
   "id": "d427a3b5",
   "metadata": {},
   "source": [
    "## Конвейеры признаков\n",
    "\n",
    "Во всех предыдущих примерах может быстро надоесть выполнять преобразования вручную, особенно если нужно связать цепочкой несколько шагов. Например, нам может понадобиться следующий конвеер обработки:\n",
    "\n",
    "1. Внести вместо отсутствующих данных средние значения.\n",
    "2. Преобразовать признаки в квадратичные.\n",
    "3. Обучить модель линейной регрессии.\n",
    "\n",
    "Для организации потоковой обработки подобного конвейера библиотека SKL предоставляет объект конвейера, который можно использовать следующим образом:"
   ]
  },
  {
   "cell_type": "code",
   "execution_count": 38,
   "id": "c2f10d6f",
   "metadata": {},
   "outputs": [],
   "source": [
    "from sklearn.pipeline import make_pipeline"
   ]
  },
  {
   "cell_type": "code",
   "execution_count": 39,
   "id": "5ad9cac1",
   "metadata": {},
   "outputs": [],
   "source": [
    "model = make_pipeline(SimpleImputer(strategy='mean'),\n",
    "                      PolynomialFeatures(degree=2),\n",
    "                      LinearRegression())"
   ]
  },
  {
   "cell_type": "markdown",
   "id": "69b4d160",
   "metadata": {},
   "source": [
    "Этот конвейер выглядит и функционирует аналогично обычному объекту SKL, и выполняет все заданные шаги для любых входных данных."
   ]
  },
  {
   "cell_type": "code",
   "execution_count": 40,
   "id": "98e89f31",
   "metadata": {},
   "outputs": [
    {
     "name": "stdout",
     "output_type": "stream",
     "text": [
      "[14 16 -1  8 -5]\n",
      "[14. 16. -1.  8. -5.]\n"
     ]
    }
   ],
   "source": [
    "# массив Х с пропущенными значениями\n",
    "model.fit(X, y)\n",
    "print(y)\n",
    "print(model.predict(X))"
   ]
  },
  {
   "cell_type": "markdown",
   "id": "fb59fb9b",
   "metadata": {},
   "source": [
    "Все шаги этой модели выполняются автоматически. Для простоты демонстрации мы применили модель к тем данным, на которых она была обучена, именно поэтому она смогла хорошо предсказать результат."
   ]
  },
  {
   "cell_type": "code",
   "execution_count": null,
   "id": "a31cf8f8",
   "metadata": {},
   "outputs": [],
   "source": []
  }
 ],
 "metadata": {
  "kernelspec": {
   "display_name": "Python 3 (ipykernel)",
   "language": "python",
   "name": "python3"
  },
  "language_info": {
   "codemirror_mode": {
    "name": "ipython",
    "version": 3
   },
   "file_extension": ".py",
   "mimetype": "text/x-python",
   "name": "python",
   "nbconvert_exporter": "python",
   "pygments_lexer": "ipython3",
   "version": "3.9.7"
  }
 },
 "nbformat": 4,
 "nbformat_minor": 5
}
