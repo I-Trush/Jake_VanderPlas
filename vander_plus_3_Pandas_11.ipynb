{
 "cells": [
  {
   "cell_type": "markdown",
   "id": "34149404",
   "metadata": {},
   "source": [
    "# Работа с временными рядами"
   ]
  },
  {
   "cell_type": "markdown",
   "id": "98d6ea99",
   "metadata": {},
   "source": [
    "    Данные о дате и времени могут находиться в нескольких видах:\n",
    "\n",
    "|        |                              |\n",
    "|--------|------------------------------|\n",
    "| *Метки даты/времени* | July 4th, 2015 at 7:00am |\n",
    "| *Временные интервалы и периоды* | Ссылаются на отрезки времени м/у начальной и конечной точками |\n",
    "| *Временная дельта - продолжительность* | Отрезки времени конкретной длительности 20ч 30с |"
   ]
  },
  {
   "cell_type": "markdown",
   "id": "16df83d3",
   "metadata": {},
   "source": [
    "### Нативные дата и время языка Python: пакеты ``datetime`` и ``dateutil``"
   ]
  },
  {
   "cell_type": "code",
   "execution_count": 1,
   "id": "edaf20aa",
   "metadata": {},
   "outputs": [],
   "source": [
    "from datetime import datetime"
   ]
  },
  {
   "cell_type": "code",
   "execution_count": 2,
   "id": "a7f2b3d9",
   "metadata": {},
   "outputs": [
    {
     "data": {
      "text/plain": [
       "datetime.datetime(2020, 7, 3, 0, 0)"
      ]
     },
     "execution_count": 2,
     "metadata": {},
     "output_type": "execute_result"
    }
   ],
   "source": [
    "datetime(year=2020, month=7, day=3)"
   ]
  },
  {
   "cell_type": "code",
   "execution_count": 3,
   "id": "9b412d36",
   "metadata": {},
   "outputs": [],
   "source": [
    "# синтаксический разбор даты из строк\n",
    "from dateutil import parser\n",
    "date = parser.parse('4th of July, 2020')"
   ]
  },
  {
   "cell_type": "code",
   "execution_count": 4,
   "id": "1c4e2f9a",
   "metadata": {},
   "outputs": [
    {
     "data": {
      "text/plain": [
       "datetime.datetime(2020, 7, 4, 0, 0)"
      ]
     },
     "execution_count": 4,
     "metadata": {},
     "output_type": "execute_result"
    }
   ],
   "source": [
    "date"
   ]
  },
  {
   "cell_type": "code",
   "execution_count": 5,
   "id": "ea605d6a",
   "metadata": {},
   "outputs": [
    {
     "data": {
      "text/plain": [
       "'Saturday'"
      ]
     },
     "execution_count": 5,
     "metadata": {},
     "output_type": "execute_result"
    }
   ],
   "source": [
    "# вывод дня недели\n",
    "date.strftime('%A')"
   ]
  },
  {
   "cell_type": "markdown",
   "id": "7b48252b",
   "metadata": {},
   "source": [
    "### Типизированные массивы значений времени: тип ``datetime64`` библиотеки NumPy\n",
    "    Скорость выше"
   ]
  },
  {
   "cell_type": "code",
   "execution_count": 6,
   "id": "12997d7e",
   "metadata": {},
   "outputs": [],
   "source": [
    "import numpy as np\n",
    "import pandas as pd"
   ]
  },
  {
   "cell_type": "code",
   "execution_count": 7,
   "id": "99e9d864",
   "metadata": {},
   "outputs": [
    {
     "data": {
      "text/plain": [
       "array('2020-07-04', dtype='datetime64[D]')"
      ]
     },
     "execution_count": 7,
     "metadata": {},
     "output_type": "execute_result"
    }
   ],
   "source": [
    "date = np.array('2020-07-04', dtype=np.datetime64)\n",
    "date"
   ]
  },
  {
   "cell_type": "code",
   "execution_count": 8,
   "id": "e4e8fb75",
   "metadata": {},
   "outputs": [
    {
     "data": {
      "text/plain": [
       "array(['2020-07-04', '2020-07-05', '2020-07-06', '2020-07-07',\n",
       "       '2020-07-08', '2020-07-09', '2020-07-10', '2020-07-11',\n",
       "       '2020-07-12', '2020-07-13', '2020-07-14', '2020-07-15'],\n",
       "      dtype='datetime64[D]')"
      ]
     },
     "execution_count": 8,
     "metadata": {},
     "output_type": "execute_result"
    }
   ],
   "source": [
    "date + np.arange(12)"
   ]
  },
  {
   "cell_type": "markdown",
   "id": "bd46eee2",
   "metadata": {},
   "source": [
    "###### datetime64 и timedelta64  $основаны на $``базовой единице времени (fundamental time unit - ftu)``\n",
    "    Следовательно кодируемый диапазон времени имеет предел = 2^64 * ftu\n",
    "    Соответственно если за ftu принимается нс - то мах диапазон = 600 лет.\n",
    "    Если за ftu принят день - то мах диапазон = 2^64 дней..."
   ]
  },
  {
   "cell_type": "code",
   "execution_count": 9,
   "id": "4b19914e",
   "metadata": {},
   "outputs": [
    {
     "data": {
      "text/plain": [
       "numpy.datetime64('2020-07-04')"
      ]
     },
     "execution_count": 9,
     "metadata": {},
     "output_type": "execute_result"
    }
   ],
   "source": [
    "# ftu = день\n",
    "np.datetime64('2020-07-04')"
   ]
  },
  {
   "cell_type": "code",
   "execution_count": 10,
   "id": "1cb0ccee",
   "metadata": {},
   "outputs": [
    {
     "data": {
      "text/plain": [
       "numpy.datetime64('2020-07-04T12:00')"
      ]
     },
     "execution_count": 10,
     "metadata": {},
     "output_type": "execute_result"
    }
   ],
   "source": [
    "# ftu = минута\n",
    "np.datetime64('2020-07-04 12:00')"
   ]
  },
  {
   "cell_type": "code",
   "execution_count": 14,
   "id": "dea835c4",
   "metadata": {},
   "outputs": [
    {
     "data": {
      "text/plain": [
       "numpy.datetime64('2020-07-04T12:59:59.500000000')"
      ]
     },
     "execution_count": 14,
     "metadata": {},
     "output_type": "execute_result"
    }
   ],
   "source": [
    "# ns\n",
    "np.datetime64('2020-07-04 12:59:59.50', 'ns')"
   ]
  },
  {
   "cell_type": "markdown",
   "id": "ba9e7bb2",
   "metadata": {},
   "source": [
    "###### Описание кодов форматирования даты и времени:\n",
    "\n",
    "|Code    | Meaning     | Time span (relative) | Time span (absolute)   |\n",
    "|--------|-------------|----------------------|------------------------|\n",
    "| ``Y``  | Year\t       | ± 9.2e18 years       | [9.2e18 BC, 9.2e18 AD] |\n",
    "| ``M``  | Month       | ± 7.6e17 years       | [7.6e17 BC, 7.6e17 AD] |\n",
    "| ``W``  | Week\t       | ± 1.7e17 years       | [1.7e17 BC, 1.7e17 AD] |\n",
    "| ``D``  | Day         | ± 2.5e16 years       | [2.5e16 BC, 2.5e16 AD] |\n",
    "| ``h``  | Hour        | ± 1.0e15 years       | [1.0e15 BC, 1.0e15 AD] |\n",
    "| ``m``  | Minute      | ± 1.7e13 years       | [1.7e13 BC, 1.7e13 AD] |\n",
    "| ``s``  | Second      | ± 2.9e12 years       | [ 2.9e9 BC, 2.9e9 AD]  |\n",
    "| ``ms`` | Millisecond | ± 2.9e9 years        | [ 2.9e6 BC, 2.9e6 AD]  |\n",
    "| ``us`` | Microsecond | ± 2.9e6 years        | [290301 BC, 294241 AD] |\n",
    "| ``ns`` | Nanosecond  | ± 292 years          | [ 1678 AD, 2262 AD]    |\n",
    "| ``ps`` | Picosecond  | ± 106 days           | [ 1969 AD, 1970 AD]    |\n",
    "| ``fs`` | Femtosecond | ± 2.6 hours          | [ 1969 AD, 1970 AD]    |\n",
    "| ``as`` | Attosecond  | ± 9.2 seconds        | [ 1969 AD, 1970 AD]    |"
   ]
  },
  {
   "cell_type": "markdown",
   "id": "f6bd5532",
   "metadata": {},
   "source": [
    "### Даты и время в библиотеке Pandas: избранное из лучшего"
   ]
  },
  {
   "cell_type": "code",
   "execution_count": null,
   "id": "bfa17643",
   "metadata": {},
   "outputs": [],
   "source": []
  },
  {
   "cell_type": "code",
   "execution_count": null,
   "id": "669711c1",
   "metadata": {},
   "outputs": [],
   "source": []
  },
  {
   "cell_type": "code",
   "execution_count": null,
   "id": "d65cee0e",
   "metadata": {},
   "outputs": [],
   "source": []
  },
  {
   "cell_type": "code",
   "execution_count": null,
   "id": "2e9f3735",
   "metadata": {},
   "outputs": [],
   "source": []
  },
  {
   "cell_type": "code",
   "execution_count": null,
   "id": "72070d11",
   "metadata": {},
   "outputs": [],
   "source": []
  },
  {
   "cell_type": "code",
   "execution_count": null,
   "id": "ee68ac50",
   "metadata": {},
   "outputs": [],
   "source": []
  },
  {
   "cell_type": "code",
   "execution_count": null,
   "id": "d5b1a532",
   "metadata": {},
   "outputs": [],
   "source": []
  },
  {
   "cell_type": "code",
   "execution_count": null,
   "id": "76da49aa",
   "metadata": {},
   "outputs": [],
   "source": []
  },
  {
   "cell_type": "code",
   "execution_count": null,
   "id": "2c8192ae",
   "metadata": {},
   "outputs": [],
   "source": []
  }
 ],
 "metadata": {
  "kernelspec": {
   "display_name": "Python 3 (ipykernel)",
   "language": "python",
   "name": "python3"
  },
  "language_info": {
   "codemirror_mode": {
    "name": "ipython",
    "version": 3
   },
   "file_extension": ".py",
   "mimetype": "text/x-python",
   "name": "python",
   "nbconvert_exporter": "python",
   "pygments_lexer": "ipython3",
   "version": "3.9.7"
  }
 },
 "nbformat": 4,
 "nbformat_minor": 5
}
