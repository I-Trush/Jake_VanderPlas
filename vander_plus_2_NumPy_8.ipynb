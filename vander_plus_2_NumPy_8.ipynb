{
 "cells": [
  {
   "cell_type": "markdown",
   "id": "a98f94ad",
   "metadata": {},
   "source": [
    "## Структурированные данные: структурированные массивы библиотеки NumPy\n",
    "\n",
    "### структурированные массивы - structured arrays - массивы с составным типом данных\n",
    "### массивы записей - record arrays\n",
    "#### обеспечивают эффективное хранилище для сложных неоднородных данных\n",
    "Подобные сценарии часто применяются при работе с DataFrame Pandas"
   ]
  },
  {
   "cell_type": "code",
   "execution_count": 1,
   "id": "7b414a39",
   "metadata": {},
   "outputs": [],
   "source": [
    "import numpy as np"
   ]
  },
  {
   "cell_type": "code",
   "execution_count": 6,
   "id": "c53271f8",
   "metadata": {},
   "outputs": [],
   "source": [
    "name = ['Alice', 'Bob', 'Cat', 'Batman']\n",
    "age = [25, 45, 37, 19]\n",
    "weight = [55.0, 85.5, 68.0, 61.5]\n",
    "# стандартные списки Python, но они никак не связаны м/у собой"
   ]
  },
  {
   "cell_type": "code",
   "execution_count": 22,
   "id": "74730702",
   "metadata": {},
   "outputs": [],
   "source": [
    "# создали пустой массив-контейнер\n",
    "data = np.zeros(4, dtype={\n",
    "    'names': ('name', 'age', 'weight'),\n",
    "    'formats': ('U10', 'i4', 'f8')\n",
    "})"
   ]
  },
  {
   "cell_type": "code",
   "execution_count": 23,
   "id": "3b1f00ca",
   "metadata": {},
   "outputs": [
    {
     "data": {
      "text/plain": [
       "array([('', 0, 0.), ('', 0, 0.), ('', 0, 0.), ('', 0, 0.)],\n",
       "      dtype=[('name', '<U10'), ('age', '<i4'), ('weight', '<f8')])"
      ]
     },
     "execution_count": 23,
     "metadata": {},
     "output_type": "execute_result"
    }
   ],
   "source": [
    "data"
   ]
  },
  {
   "cell_type": "code",
   "execution_count": 24,
   "id": "220e4d7b",
   "metadata": {},
   "outputs": [
    {
     "data": {
      "text/plain": [
       "dtype([('name', '<U10'), ('age', '<i4'), ('weight', '<f8')])"
      ]
     },
     "execution_count": 24,
     "metadata": {},
     "output_type": "execute_result"
    }
   ],
   "source": [
    "data.dtype"
   ]
  },
  {
   "cell_type": "code",
   "execution_count": 26,
   "id": "6a1d4239",
   "metadata": {},
   "outputs": [],
   "source": [
    "data['name'] = name\n",
    "data['age'] = age\n",
    "data['weight'] = weight"
   ]
  },
  {
   "cell_type": "code",
   "execution_count": 27,
   "id": "98d5039f",
   "metadata": {},
   "outputs": [
    {
     "data": {
      "text/plain": [
       "array([('Alice', 25, 55. ), ('Bob', 45, 85.5), ('Cat', 37, 68. ),\n",
       "       ('Batman', 19, 61.5)],\n",
       "      dtype=[('name', '<U10'), ('age', '<i4'), ('weight', '<f8')])"
      ]
     },
     "execution_count": 27,
     "metadata": {},
     "output_type": "execute_result"
    }
   ],
   "source": [
    "data"
   ]
  },
  {
   "cell_type": "code",
   "execution_count": 28,
   "id": "b4bd6fb1",
   "metadata": {},
   "outputs": [
    {
     "data": {
      "text/plain": [
       "array(['Alice', 'Bob', 'Cat', 'Batman'], dtype='<U10')"
      ]
     },
     "execution_count": 28,
     "metadata": {},
     "output_type": "execute_result"
    }
   ],
   "source": [
    "# в структурированных массивах ссылаться на значания можно как по имени так и по индексу\n",
    "data['name']"
   ]
  },
  {
   "cell_type": "code",
   "execution_count": 29,
   "id": "ed26ddaa",
   "metadata": {},
   "outputs": [
    {
     "data": {
      "text/plain": [
       "('Bob', 45, 85.5)"
      ]
     },
     "execution_count": 29,
     "metadata": {},
     "output_type": "execute_result"
    }
   ],
   "source": [
    "data[1]"
   ]
  },
  {
   "cell_type": "code",
   "execution_count": 30,
   "id": "395000f0",
   "metadata": {},
   "outputs": [
    {
     "data": {
      "text/plain": [
       "'Batman'"
      ]
     },
     "execution_count": 30,
     "metadata": {},
     "output_type": "execute_result"
    }
   ],
   "source": [
    "data[-1]['name']"
   ]
  },
  {
   "cell_type": "code",
   "execution_count": 31,
   "id": "c1ccd353",
   "metadata": {},
   "outputs": [
    {
     "data": {
      "text/plain": [
       "array(['Alice', 'Batman'], dtype='<U10')"
      ]
     },
     "execution_count": 31,
     "metadata": {},
     "output_type": "execute_result"
    }
   ],
   "source": [
    "# фильтрация при помощи маскирования\n",
    "data[data['age'] < 30]['name']"
   ]
  },
  {
   "cell_type": "markdown",
   "id": "2cd22331",
   "metadata": {},
   "source": [
    "### Создание структурированных массивов"
   ]
  },
  {
   "cell_type": "code",
   "execution_count": 32,
   "id": "6185af1d",
   "metadata": {},
   "outputs": [
    {
     "data": {
      "text/plain": [
       "dtype([('name', '<U10'), ('age', '<i4'), ('weight', '<f4')])"
      ]
     },
     "execution_count": 32,
     "metadata": {},
     "output_type": "execute_result"
    }
   ],
   "source": [
    "np.dtype({'names': ('name', 'age', 'weight'),\n",
    "         'formats': ((np.str_, 10), int, np.float32)})\n",
    "# можно использовать как типы данных Python так и типы быблиотеки NumPy"
   ]
  },
  {
   "cell_type": "markdown",
   "id": "634ccf63",
   "metadata": {},
   "source": [
    "Составные типы данных можно задавать в виде кортежей:"
   ]
  },
  {
   "cell_type": "code",
   "execution_count": 33,
   "id": "16238a5c",
   "metadata": {},
   "outputs": [
    {
     "data": {
      "text/plain": [
       "dtype([('name', 'S10'), ('age', '<i4'), ('weight', '<f4')])"
      ]
     },
     "execution_count": 33,
     "metadata": {},
     "output_type": "execute_result"
    }
   ],
   "source": [
    "np.dtype([\n",
    "    ('name', 'S10'),\n",
    "    ('age', 'i4'),\n",
    "    ('weight', '<f4')\n",
    "])"
   ]
  },
  {
   "cell_type": "code",
   "execution_count": 34,
   "id": "d855378c",
   "metadata": {},
   "outputs": [
    {
     "data": {
      "text/plain": [
       "dtype([('f0', 'S10'), ('f1', '<i4'), ('f2', '<f8')])"
      ]
     },
     "execution_count": 34,
     "metadata": {},
     "output_type": "execute_result"
    }
   ],
   "source": [
    "# Если названия типов (полей) не важны:\n",
    "np.dtype('S10,i4,f8')"
   ]
  },
  {
   "cell_type": "markdown",
   "id": "3c3f3fc7",
   "metadata": {},
   "source": [
    "### Более продвинутые типы данных\n",
    "Можно создать тип, в котором каждый эл-т содержит массив или матрицу:"
   ]
  },
  {
   "cell_type": "code",
   "execution_count": 35,
   "id": "720f11c5",
   "metadata": {},
   "outputs": [],
   "source": [
    "tp = np.dtype([\n",
    "    ('id', 'i8'),\n",
    "    ('mat', 'f8', (3,3))\n",
    "])"
   ]
  },
  {
   "cell_type": "code",
   "execution_count": 36,
   "id": "5374e5bd",
   "metadata": {},
   "outputs": [],
   "source": [
    "X = np.zeros(1, dtype=tp)"
   ]
  },
  {
   "cell_type": "code",
   "execution_count": 37,
   "id": "7048d6b5",
   "metadata": {},
   "outputs": [
    {
     "data": {
      "text/plain": [
       "array([(0, [[0., 0., 0.], [0., 0., 0.], [0., 0., 0.]])],\n",
       "      dtype=[('id', '<i8'), ('mat', '<f8', (3, 3))])"
      ]
     },
     "execution_count": 37,
     "metadata": {},
     "output_type": "execute_result"
    }
   ],
   "source": [
    "X"
   ]
  },
  {
   "cell_type": "code",
   "execution_count": 38,
   "id": "b6ee5675",
   "metadata": {},
   "outputs": [
    {
     "data": {
      "text/plain": [
       "(0, [[0., 0., 0.], [0., 0., 0.], [0., 0., 0.]])"
      ]
     },
     "execution_count": 38,
     "metadata": {},
     "output_type": "execute_result"
    }
   ],
   "source": [
    "X[0]"
   ]
  },
  {
   "cell_type": "code",
   "execution_count": 39,
   "id": "e2156459",
   "metadata": {},
   "outputs": [
    {
     "data": {
      "text/plain": [
       "array([[0., 0., 0.],\n",
       "       [0., 0., 0.],\n",
       "       [0., 0., 0.]])"
      ]
     },
     "execution_count": 39,
     "metadata": {},
     "output_type": "execute_result"
    }
   ],
   "source": [
    "X['mat'][0]"
   ]
  },
  {
   "cell_type": "code",
   "execution_count": null,
   "id": "80947680",
   "metadata": {},
   "outputs": [],
   "source": [
    "# теперь каждый эл-т массива Х состоит из целого числа id и матрицы 3х3\n",
    "# в памяти такой массив имеет формат массива на C или Fortran"
   ]
  },
  {
   "cell_type": "markdown",
   "id": "61444cca",
   "metadata": {},
   "source": [
    "### Доступ к эл-там массива по атрибуту"
   ]
  },
  {
   "cell_type": "code",
   "execution_count": 40,
   "id": "f3589d11",
   "metadata": {},
   "outputs": [
    {
     "data": {
      "text/plain": [
       "array([25, 45, 37, 19])"
      ]
     },
     "execution_count": 40,
     "metadata": {},
     "output_type": "execute_result"
    }
   ],
   "source": [
    "data['age']"
   ]
  },
  {
   "cell_type": "code",
   "execution_count": 41,
   "id": "be97174f",
   "metadata": {},
   "outputs": [],
   "source": [
    "data_rec = data.view(np.recarray)"
   ]
  },
  {
   "cell_type": "code",
   "execution_count": 42,
   "id": "0ac82a3f",
   "metadata": {},
   "outputs": [
    {
     "data": {
      "text/plain": [
       "array([25, 45, 37, 19])"
      ]
     },
     "execution_count": 42,
     "metadata": {},
     "output_type": "execute_result"
    }
   ],
   "source": [
    "data_rec.age"
   ]
  },
  {
   "cell_type": "code",
   "execution_count": null,
   "id": "2db5f09e",
   "metadata": {},
   "outputs": [],
   "source": []
  },
  {
   "cell_type": "code",
   "execution_count": null,
   "id": "4bb57f2f",
   "metadata": {},
   "outputs": [],
   "source": []
  }
 ],
 "metadata": {
  "kernelspec": {
   "display_name": "Python 3 (ipykernel)",
   "language": "python",
   "name": "python3"
  },
  "language_info": {
   "codemirror_mode": {
    "name": "ipython",
    "version": 3
   },
   "file_extension": ".py",
   "mimetype": "text/x-python",
   "name": "python",
   "nbconvert_exporter": "python",
   "pygments_lexer": "ipython3",
   "version": "3.9.7"
  }
 },
 "nbformat": 4,
 "nbformat_minor": 5
}
